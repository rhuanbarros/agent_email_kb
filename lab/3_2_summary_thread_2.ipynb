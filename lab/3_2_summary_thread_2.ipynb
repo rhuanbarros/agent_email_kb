{
 "cells": [
  {
   "cell_type": "code",
   "execution_count": 1,
   "metadata": {},
   "outputs": [],
   "source": [
    "import pandas as pd"
   ]
  },
  {
   "cell_type": "code",
   "execution_count": 2,
   "metadata": {},
   "outputs": [
    {
     "name": "stdout",
     "output_type": "stream",
     "text": [
      "<class 'pandas.core.frame.DataFrame'>\n",
      "Index: 11 entries, 76 to 100\n",
      "Data columns (total 5 columns):\n",
      " #   Column            Non-Null Count  Dtype \n",
      "---  ------            --------------  ----- \n",
      " 0   threadId          11 non-null     object\n",
      " 1   from              11 non-null     object\n",
      " 2   date              11 non-null     object\n",
      " 3   body_cleaned      11 non-null     object\n",
      " 4   body_cleaned_len  11 non-null     int64 \n",
      "dtypes: int64(1), object(4)\n",
      "memory usage: 528.0+ bytes\n"
     ]
    }
   ],
   "source": [
    "df_thread = pd.read_csv('thread_18cff0b946f3a4d4_cleaned.csv', index_col='Unnamed: 0')\n",
    "df_thread.info()"
   ]
  },
  {
   "cell_type": "code",
   "execution_count": 3,
   "metadata": {},
   "outputs": [
    {
     "data": {
      "text/html": [
       "<div>\n",
       "<style scoped>\n",
       "    .dataframe tbody tr th:only-of-type {\n",
       "        vertical-align: middle;\n",
       "    }\n",
       "\n",
       "    .dataframe tbody tr th {\n",
       "        vertical-align: top;\n",
       "    }\n",
       "\n",
       "    .dataframe thead th {\n",
       "        text-align: right;\n",
       "    }\n",
       "</style>\n",
       "<table border=\"1\" class=\"dataframe\">\n",
       "  <thead>\n",
       "    <tr style=\"text-align: right;\">\n",
       "      <th></th>\n",
       "      <th>threadId</th>\n",
       "      <th>from</th>\n",
       "      <th>date</th>\n",
       "      <th>body_cleaned</th>\n",
       "      <th>body_cleaned_len</th>\n",
       "    </tr>\n",
       "  </thead>\n",
       "  <tbody>\n",
       "    <tr>\n",
       "      <th>0</th>\n",
       "      <td>18cff0b946f3a4d4</td>\n",
       "      <td>Felipe dos Santos Giacomel &lt;felipe.giacomel@tr...</td>\n",
       "      <td>2024-01-12 15:59:44-03:00</td>\n",
       "      <td>Prezada DGBD, boa tarde!\\r\\n\\r\\nEstamos com er...</td>\n",
       "      <td>105</td>\n",
       "    </tr>\n",
       "    <tr>\n",
       "      <th>1</th>\n",
       "      <td>18cff0b946f3a4d4</td>\n",
       "      <td>Edson Elnei Lehr &lt;elehr@trt4.jus.br&gt;</td>\n",
       "      <td>2024-01-12 16:29:16-03:00</td>\n",
       "      <td>Copiando para o e-mail correto da DIBD.\\r\\n\\r\\...</td>\n",
       "      <td>15</td>\n",
       "    </tr>\n",
       "    <tr>\n",
       "      <th>2</th>\n",
       "      <td>18cff0b946f3a4d4</td>\n",
       "      <td>Edson Elnei Lehr &lt;elehr@trt4.jus.br&gt;</td>\n",
       "      <td>2024-01-12 17:09:03-03:00</td>\n",
       "      <td>Parece ser de tnsnames.ora desatualizado na es...</td>\n",
       "      <td>36</td>\n",
       "    </tr>\n",
       "    <tr>\n",
       "      <th>3</th>\n",
       "      <td>18cff0b946f3a4d4</td>\n",
       "      <td>Felipe dos Santos Giacomel &lt;felipe.giacomel@tr...</td>\n",
       "      <td>2024-01-12 17:29:30-03:00</td>\n",
       "      <td>Obrigado, Edson.</td>\n",
       "      <td>2</td>\n",
       "    </tr>\n",
       "    <tr>\n",
       "      <th>4</th>\n",
       "      <td>18cff0b946f3a4d4</td>\n",
       "      <td>Evandro Bassanesi &lt;evandro.bassanesi@trt4.jus.br&gt;</td>\n",
       "      <td>2024-01-12 17:34:50-03:00</td>\n",
       "      <td>Felipe,\\r\\n\\r\\nEste está desatualizado. O banc...</td>\n",
       "      <td>24</td>\n",
       "    </tr>\n",
       "    <tr>\n",
       "      <th>5</th>\n",
       "      <td>18cff0b946f3a4d4</td>\n",
       "      <td>Felipe dos Santos Giacomel &lt;felipe.giacomel@tr...</td>\n",
       "      <td>2024-01-12 17:46:45-03:00</td>\n",
       "      <td>Vamos atualizar. Obrigado!\\r\\n\\r\\n\\r\\nAtencios...</td>\n",
       "      <td>18</td>\n",
       "    </tr>\n",
       "    <tr>\n",
       "      <th>6</th>\n",
       "      <td>18cff0b946f3a4d4</td>\n",
       "      <td>Paulo Ricardo Ritter &lt;pritter@trt4.jus.br&gt;</td>\n",
       "      <td>2024-01-15 08:58:54-03:00</td>\n",
       "      <td>Felipe, isso não ocorre no servidor do Markvis...</td>\n",
       "      <td>104</td>\n",
       "    </tr>\n",
       "    <tr>\n",
       "      <th>7</th>\n",
       "      <td>18cff0b946f3a4d4</td>\n",
       "      <td>Paulo Ricardo Ritter &lt;pritter@trt4.jus.br&gt;</td>\n",
       "      <td>2024-01-15 09:19:39-03:00</td>\n",
       "      <td>Agora que entendi, o problema  que refere, não...</td>\n",
       "      <td>46</td>\n",
       "    </tr>\n",
       "    <tr>\n",
       "      <th>8</th>\n",
       "      <td>18cff0b946f3a4d4</td>\n",
       "      <td>Paulo Ricardo Ritter &lt;pritter@trt4.jus.br&gt;</td>\n",
       "      <td>2024-01-15 10:18:12-03:00</td>\n",
       "      <td>A GPO de atualização do TNSnames (desktop-all-...</td>\n",
       "      <td>28</td>\n",
       "    </tr>\n",
       "    <tr>\n",
       "      <th>9</th>\n",
       "      <td>18cff0b946f3a4d4</td>\n",
       "      <td>Francisco Flesch &lt;francisco.flesch@trt4.jus.br&gt;</td>\n",
       "      <td>2024-01-15 11:05:28-03:00</td>\n",
       "      <td>Eu troquei o TNSnames na última vez que deu pr...</td>\n",
       "      <td>41</td>\n",
       "    </tr>\n",
       "    <tr>\n",
       "      <th>10</th>\n",
       "      <td>18cff0b946f3a4d4</td>\n",
       "      <td>Felipe dos Santos Giacomel &lt;felipe.giacomel@tr...</td>\n",
       "      <td>2024-01-15 12:05:23-03:00</td>\n",
       "      <td>Obrigado, Paulo!\\r\\n\\r\\nSe não houver objeção ...</td>\n",
       "      <td>34</td>\n",
       "    </tr>\n",
       "  </tbody>\n",
       "</table>\n",
       "</div>"
      ],
      "text/plain": [
       "            threadId                                               from  \\\n",
       "0   18cff0b946f3a4d4  Felipe dos Santos Giacomel <felipe.giacomel@tr...   \n",
       "1   18cff0b946f3a4d4               Edson Elnei Lehr <elehr@trt4.jus.br>   \n",
       "2   18cff0b946f3a4d4               Edson Elnei Lehr <elehr@trt4.jus.br>   \n",
       "3   18cff0b946f3a4d4  Felipe dos Santos Giacomel <felipe.giacomel@tr...   \n",
       "4   18cff0b946f3a4d4  Evandro Bassanesi <evandro.bassanesi@trt4.jus.br>   \n",
       "5   18cff0b946f3a4d4  Felipe dos Santos Giacomel <felipe.giacomel@tr...   \n",
       "6   18cff0b946f3a4d4         Paulo Ricardo Ritter <pritter@trt4.jus.br>   \n",
       "7   18cff0b946f3a4d4         Paulo Ricardo Ritter <pritter@trt4.jus.br>   \n",
       "8   18cff0b946f3a4d4         Paulo Ricardo Ritter <pritter@trt4.jus.br>   \n",
       "9   18cff0b946f3a4d4    Francisco Flesch <francisco.flesch@trt4.jus.br>   \n",
       "10  18cff0b946f3a4d4  Felipe dos Santos Giacomel <felipe.giacomel@tr...   \n",
       "\n",
       "                         date  \\\n",
       "0   2024-01-12 15:59:44-03:00   \n",
       "1   2024-01-12 16:29:16-03:00   \n",
       "2   2024-01-12 17:09:03-03:00   \n",
       "3   2024-01-12 17:29:30-03:00   \n",
       "4   2024-01-12 17:34:50-03:00   \n",
       "5   2024-01-12 17:46:45-03:00   \n",
       "6   2024-01-15 08:58:54-03:00   \n",
       "7   2024-01-15 09:19:39-03:00   \n",
       "8   2024-01-15 10:18:12-03:00   \n",
       "9   2024-01-15 11:05:28-03:00   \n",
       "10  2024-01-15 12:05:23-03:00   \n",
       "\n",
       "                                         body_cleaned  body_cleaned_len  \n",
       "0   Prezada DGBD, boa tarde!\\r\\n\\r\\nEstamos com er...               105  \n",
       "1   Copiando para o e-mail correto da DIBD.\\r\\n\\r\\...                15  \n",
       "2   Parece ser de tnsnames.ora desatualizado na es...                36  \n",
       "3                                    Obrigado, Edson.                 2  \n",
       "4   Felipe,\\r\\n\\r\\nEste está desatualizado. O banc...                24  \n",
       "5   Vamos atualizar. Obrigado!\\r\\n\\r\\n\\r\\nAtencios...                18  \n",
       "6   Felipe, isso não ocorre no servidor do Markvis...               104  \n",
       "7   Agora que entendi, o problema  que refere, não...                46  \n",
       "8   A GPO de atualização do TNSnames (desktop-all-...                28  \n",
       "9   Eu troquei o TNSnames na última vez que deu pr...                41  \n",
       "10  Obrigado, Paulo!\\r\\n\\r\\nSe não houver objeção ...                34  "
      ]
     },
     "execution_count": 3,
     "metadata": {},
     "output_type": "execute_result"
    }
   ],
   "source": [
    "df_thread = df_thread.reset_index().drop('index', axis=1)\n",
    "df_thread"
   ]
  },
  {
   "cell_type": "code",
   "execution_count": 23,
   "metadata": {},
   "outputs": [
    {
     "name": "stderr",
     "output_type": "stream",
     "text": [
      "/workspaces/agent_email_kb/.venv/lib/python3.10/site-packages/langchain_core/utils/utils.py:225: UserWarning: WARNING! modelName is not default parameter.\n",
      "                modelName was transferred to model_kwargs.\n",
      "                Please confirm that modelName is what you intended.\n",
      "  warnings.warn(\n",
      "/workspaces/agent_email_kb/.venv/lib/python3.10/site-packages/langchain_core/utils/utils.py:225: UserWarning: WARNING! modelKwargs is not default parameter.\n",
      "                modelKwargs was transferred to model_kwargs.\n",
      "                Please confirm that modelKwargs is what you intended.\n",
      "  warnings.warn(\n"
     ]
    }
   ],
   "source": [
    "from langchain_openai import ChatOpenAI, OpenAI\n",
    "\n",
    "# llm = ChatOpenAI(model=\"gpt-3.5-turbo-0125\", temperature=0)\n",
    "llm = ChatOpenAI(model=\"gpt-4o-mini\", temperature=0)\n",
    "\n",
    "llm_json = OpenAI(\n",
    "  temperature= 0,\n",
    "  modelName= \"gpt-4o-mini\",\n",
    "  modelKwargs = {\n",
    "    'response_format': { 'type': \"json_object\" },\n",
    "  },\n",
    ")\n",
    "\n",
    "llm_json2 = ChatOpenAI(model=\"gpt-4o-mini\").bind(\n",
    "    response_format={\"type\": \"json_object\"}\n",
    ")"
   ]
  },
  {
   "cell_type": "code",
   "execution_count": 2,
   "metadata": {},
   "outputs": [],
   "source": [
    "from langchain.text_splitter import CharacterTextSplitter\n",
    "\n",
    "splitter = CharacterTextSplitter(\n",
    "    separator = \"\\n\\n\",  # Split character (default \\n\\n)\n",
    "    chunk_size=100,\n",
    "    chunk_overlap=1,\n",
    "    length_function=len,\n",
    ")"
   ]
  },
  {
   "cell_type": "code",
   "execution_count": 8,
   "metadata": {},
   "outputs": [],
   "source": [
    "text = \"\"\"\n",
    "Prezada DGBD, boa tarde!\n",
    "\n",
    "Estamos com erro ao fazer operações na base do Infor de São Leopoldo. Podem\n",
    "dar uma olhada, por favor?\n",
    "\n",
    "\n",
    "[2024-01-12 11:41:18] Falha ao conectar … base do inFOR de SÆo Leopoldo 1¦\n",
    "> VT (SAOLEO.WORLD) com o usu rio inforadm: Exception calling \"\"Open\"\" with \"\"0\"\"\n",
    "> argument(s): \"\"ORA-12541: TNS: nÆo h  listener\"\"\n",
    "\n",
    "\n",
    "\n",
    "\n",
    "Atenciosamente,\n",
    "\n",
    "Felipe Giacomel\n",
    "Divisão de Microinformática\n",
    "TRT4 - Secretaria de Tecnologia da Informação e Comunicações\n",
    "\n",
    "-- \n",
    "You received this message because you are subscribed to the Google Groups \"\"SETIC-DIM- Divisao de Microinformatica\"\" group.\n",
    "To unsubscribe from this group and stop receiving emails from it, send an email to setic.dim-lista+unsubscribe@trt4.jus.br.\n",
    "\"\"\""
   ]
  },
  {
   "cell_type": "code",
   "execution_count": 9,
   "metadata": {},
   "outputs": [
    {
     "name": "stderr",
     "output_type": "stream",
     "text": [
      "Created a chunk of size 102, which is longer than the specified 100\n",
      "Created a chunk of size 208, which is longer than the specified 100\n",
      "Created a chunk of size 104, which is longer than the specified 100\n"
     ]
    }
   ],
   "source": [
    "splits = splitter.split_text(text)"
   ]
  },
  {
   "cell_type": "code",
   "execution_count": 10,
   "metadata": {},
   "outputs": [
    {
     "data": {
      "text/plain": [
       "{0: 'Prezada DGBD, boa tarde!',\n",
       " 1: 'Estamos com erro ao fazer operações na base do Infor de São Leopoldo. Podem\\ndar uma olhada, por favor?',\n",
       " 2: '[2024-01-12 11:41:18] Falha ao conectar … base do inFOR de SÆo Leopoldo 1¦\\n> VT (SAOLEO.WORLD) com o usu rio inforadm: Exception calling \"\"Open\"\" with \"\"0\"\"\\n> argument(s): \"\"ORA-12541: TNS: nÆo h  listener\"\"',\n",
       " 3: 'Atenciosamente,',\n",
       " 4: 'Felipe Giacomel\\nDivisão de Microinformática\\nTRT4 - Secretaria de Tecnologia da Informação e Comunicações',\n",
       " 5: '-- \\nYou received this message because you are subscribed to the Google Groups \"\"SETIC-DIM- Divisao de Microinformatica\"\" group.\\nTo unsubscribe from this group and stop receiving emails from it, send an email to setic.dim-lista+unsubscribe@trt4.jus.br.'}"
      ]
     },
     "execution_count": 10,
     "metadata": {},
     "output_type": "execute_result"
    }
   ],
   "source": [
    "strings = { k:v for (k,v) in zip(range(len(splits)), splits) }\n",
    "strings"
   ]
  },
  {
   "cell_type": "code",
   "execution_count": 47,
   "metadata": {},
   "outputs": [],
   "source": [
    "prompt_grader_importancy_system = \"\"\"\n",
    "    You are a helpful assistant who is in charge of classifying strings as either interesting to a use case or not.\n",
    "    This strings will be used by another llm to generate a report and a knowledge base fo a IT company.\n",
    "    So the use case is to determine if the string contain helpful information to create a knowledge base or not.\n",
    "\n",
    "    You should output a json. Key shold be the key of the string, the value should be the boolean value\n",
    "\"\"\"\n",
    "\n",
    "\n",
    "prompt_grader_importancy_user = \"\"\"\n",
    "    {STRINGS}\n",
    "\"\"\"\n",
    "\n",
    "from langchain_core.prompts import ChatPromptTemplate\n",
    "\n",
    "prompt_grader = ChatPromptTemplate.from_messages(\n",
    "    [(\"system\", prompt_grader_importancy_system), (\"user\", prompt_grader_importancy_user)]\n",
    ")"
   ]
  },
  {
   "cell_type": "code",
   "execution_count": 48,
   "metadata": {},
   "outputs": [],
   "source": [
    "# chain_grader = prompt_grader | llm\n",
    "chain_grader = prompt_grader | llm_json2"
   ]
  },
  {
   "cell_type": "code",
   "execution_count": 35,
   "metadata": {},
   "outputs": [],
   "source": [
    "response = chain_grader.invoke({\"strings\": strings})\n",
    "strings_graded = response.content"
   ]
  },
  {
   "cell_type": "code",
   "execution_count": 36,
   "metadata": {},
   "outputs": [
    {
     "data": {
      "text/plain": [
       "'{\\n    \"0\": false,\\n    \"1\": true,\\n    \"2\": true,\\n    \"3\": false,\\n    \"4\": false,\\n    \"5\": false\\n}'"
      ]
     },
     "execution_count": 36,
     "metadata": {},
     "output_type": "execute_result"
    }
   ],
   "source": [
    "strings_graded"
   ]
  },
  {
   "cell_type": "code",
   "execution_count": 37,
   "metadata": {},
   "outputs": [
    {
     "data": {
      "text/plain": [
       "{'0': False, '1': True, '2': True, '3': False, '4': False, '5': False}"
      ]
     },
     "execution_count": 37,
     "metadata": {},
     "output_type": "execute_result"
    }
   ],
   "source": [
    "import json\n",
    "\n",
    "strings_graded = json.loads(strings_graded)\n",
    "strings_graded"
   ]
  },
  {
   "cell_type": "code",
   "execution_count": 38,
   "metadata": {},
   "outputs": [
    {
     "data": {
      "text/plain": [
       "['Estamos com erro ao fazer operações na base do Infor de São Leopoldo. Podem\\ndar uma olhada, por favor?',\n",
       " '[2024-01-12 11:41:18] Falha ao conectar … base do inFOR de SÆo Leopoldo 1¦\\n> VT (SAOLEO.WORLD) com o usu rio inforadm: Exception calling \"\"Open\"\" with \"\"0\"\"\\n> argument(s): \"\"ORA-12541: TNS: nÆo h  listener\"\"']"
      ]
     },
     "execution_count": 38,
     "metadata": {},
     "output_type": "execute_result"
    }
   ],
   "source": [
    "strings_graded_filtered = [ strings[int(k)] for (k,v) in strings_graded.items() if v == True ]\n",
    "strings_graded_filtered"
   ]
  },
  {
   "cell_type": "code",
   "execution_count": 44,
   "metadata": {},
   "outputs": [],
   "source": [
    "prompt_report_creator_system = \"\"\"\n",
    "    You are an expert newswriter that write email conversation reports.\n",
    "    You dont need to give any IT support, You should just write the report like a newswriter would write a news.\n",
    "    You will receive two inputs: a knowledge base document of a IT company and a list of strings extracted from a conversation between IT Technicians.\n",
    "    You should consolidate the strings into the knowledge base document.\n",
    "    Some strings should by copied char by char, like log strings, error messages.\n",
    "    The language of the conversation is generaly in Brazilian Portuguese. So your report should be in Brazilian Portuguese.\n",
    "    Dont write uninformative phrases like \"relatorio de conversa\".\n",
    "    If the previous report is empty, just create a new one from scratch.\n",
    "    You should output a technical report structured like a book.\n",
    "    \n",
    "    Do not discuss the email itself, focus rewriting the content\n",
    "    Do not sugest any solution or output any information that are not in the strings or in the previous report.\n",
    "\n",
    "    Dont write like: \"O email fala sobre um problema tal e bla bla.\". \n",
    "    You should be more directly to point.\n",
    "\n",
    "    Sections of the report:\n",
    "            - subject or description of the problem\n",
    "            - technologys: the name of the technologys being addressed\n",
    "            - Description: rewrite all the strings in order in a logical, elegant and techical way. \n",
    "                    In the case of instructions with steps on how to do something you should rewrite it. Dont loose anyinformation. \n",
    "                    If it exists, a exact description char by char of the error message that happened. you should just copy system messages necessary to address the problem.\n",
    "            - Solution: if mentioned in the strings, create a summary of the solution presented. You could update the solution with new information if possible. \n",
    "                    Dont suggest any if there isnt in the strings or in te privous report. Your task is not to suggest any solution, your task is to report what is in the report and the strings.\n",
    "    \"\"\"\n",
    "\n",
    "prompt_report_creator_user = \"\"\"\n",
    "    PREVIOUS REPORT BELOW\n",
    "    {REPORT}\n",
    "    \n",
    "    STRINGS TO BE CONSOLIDATED BELOW\n",
    "    {STRINGS}\n",
    "\"\"\"\n",
    "\n",
    "from langchain_core.prompts import ChatPromptTemplate\n",
    "\n",
    "prompt_report_creator = ChatPromptTemplate.from_messages(\n",
    "    [(\"system\", prompt_report_creator_system), (\"user\", prompt_report_creator_user)]\n",
    ")"
   ]
  },
  {
   "cell_type": "code",
   "execution_count": null,
   "metadata": {},
   "outputs": [],
   "source": []
  },
  {
   "cell_type": "code",
   "execution_count": 45,
   "metadata": {},
   "outputs": [],
   "source": [
    "chain_report_creator = prompt_report_creator | llm"
   ]
  },
  {
   "cell_type": "code",
   "execution_count": 46,
   "metadata": {},
   "outputs": [
    {
     "name": "stdout",
     "output_type": "stream",
     "text": [
      "# Relatório Técnico\n",
      "\n",
      "## Descrição do Problema\n",
      "Erro ao realizar operações na base do Infor de São Leopoldo.\n",
      "\n",
      "## Tecnologias\n",
      "Infor, Oracle Database\n",
      "\n",
      "## Descrição\n",
      "Foi reportado um erro ao tentar realizar operações na base do Infor de São Leopoldo. O log do sistema apresenta a seguinte mensagem de erro:\n",
      "\n",
      "```\n",
      "[2024-01-12 11:41:18] Falha ao conectar … base do inFOR de SÆo Leopoldo 1¦\n",
      "> VT (SAOLEO.WORLD) com o usu rio inforadm: Exception calling \"\"Open\"\" with \"\"0\"\"\n",
      "> argument(s): \"\"ORA-12541: TNS: nÆo h  listener\"\"\n",
      "```\n",
      "\n",
      "## Solução\n",
      "Nenhuma solução foi mencionada nas strings apresentadas.\n"
     ]
    }
   ],
   "source": [
    "response = chain_report_creator.invoke( {'REPORT': '', 'STRINGS': \"\\n\\n\".join(strings_graded_filtered)} )\n",
    "\n",
    "print( response.content )"
   ]
  },
  {
   "cell_type": "code",
   "execution_count": 49,
   "metadata": {},
   "outputs": [],
   "source": [
    "def test_prompt(old_report, df_row):\n",
    "    index, row = df_row\n",
    "    email = row['body_cleaned']\n",
    "    \n",
    "    print( \"--------| OLD_REPORT\" )\n",
    "    print( old_report )\n",
    "    print( \"------------------------------------------------------------------------------------------\" )\n",
    "\n",
    "    print( \"--------| EMAIL\" )\n",
    "    print( email )\n",
    "    print( \"------------------------------------------------------------------------------------------\" )\n",
    "\n",
    "    # split email\n",
    "    splits = splitter.split_text(email)\n",
    "    strings = { k:v for (k,v) in zip(range(len(splits)), splits) }\n",
    "\n",
    "    # remove all uninformative strings\n",
    "    response = chain_grader.invoke( { 'STRINGS': strings } )\n",
    "    strings_graded = response.content\n",
    "\n",
    "    # parse json\n",
    "    strings_graded = json.loads(strings_graded)\n",
    "\n",
    "    # get useful strings\n",
    "    strings_graded_filtered = [ strings[int(k)] for (k,v) in strings_graded.items() if v == True ]\n",
    "\n",
    "    response = chain_report_creator.invoke( {'REPORT': old_report, 'STRINGS': \"\\n\\n\".join(strings_graded_filtered)} )\n",
    "    new_report = response.content\n",
    "    \n",
    "    print( \"--------| NEW_REPORT\" )\n",
    "    print( new_report )\n",
    "    print( \"------------------------------------------------------------------------------------------\" )\n",
    "\n",
    "    # response = chain_report_revisor.invoke({'REPORT': new_report, 'EMAIL_CONTENT': email})\n",
    "    # list_of_informations = response.content\n",
    "\n",
    "    # print( \"--------| LIST_OF_INFORMATIONS\" )\n",
    "    # print( list_of_informations )\n",
    "    # print( \"------------------------------------------------------------------------------------------\" )\n",
    "\n",
    "    # response = chain_combine.invoke({'REPORT': new_report, 'LIST_OF_INFORMATIONS': list_of_informations})\n",
    "    # report_combined = response.content\n",
    "\n",
    "    # print( \"--------| REPORT_COMBINED\" )\n",
    "    # print( report_combined )\n",
    "    # print( \"------------------------------------------------------------------------------------------\" )\n",
    "        \n",
    "    # final_report = report_combined\n",
    "    final_report = new_report\n",
    "    # return old_report, email, new_report, list_of_informations, final_report\n",
    "    return old_report, email, new_report, final_report\n"
   ]
  },
  {
   "cell_type": "code",
   "execution_count": 54,
   "metadata": {},
   "outputs": [],
   "source": [
    "df_iter = df_thread.iterrows()\n",
    "final_report = \"\"\n",
    "reports = []"
   ]
  },
  {
   "cell_type": "code",
   "execution_count": 56,
   "metadata": {},
   "outputs": [
    {
     "name": "stdout",
     "output_type": "stream",
     "text": [
      "--------| OLD_REPORT\n",
      "# Relatório Técnico\n",
      "\n",
      "## Descrição do Problema\n",
      "Erro ao realizar operações na base do Infor de São Leopoldo.\n",
      "\n",
      "## Tecnologias\n",
      "- Infor\n",
      "- Banco de Dados\n",
      "- TNS (Transparent Network Substrate)\n",
      "\n",
      "## Descrição\n",
      "Foi reportado um erro ao tentar conectar à base do Infor de São Leopoldo. A mensagem de erro gerada foi:\n",
      "\n",
      "```\n",
      "[2024-01-12 11:41:18] Falha ao conectar … base do inFOR de SÆo Leopoldo 1¦\n",
      "> VT (SAOLEO.WORLD) com o usu rio inforadm: Exception calling \"Open\" with \"0\"\n",
      "> argument(s): \"ORA-12541: TNS: nÆo h  listener\"\n",
      "```\n",
      "\n",
      "O erro indica que não há um listener disponível para a conexão com a base de dados.\n",
      "\n",
      "## Solução\n",
      "Não foram apresentadas soluções específicas nas strings fornecidas.\n",
      "------------------------------------------------------------------------------------------\n",
      "--------| EMAIL\n",
      "Copiando para o e-mail correto da DIBD.\n",
      "\n",
      "At.te,\n",
      "*-----------*\n",
      "*Edson Lehr*\n",
      "((51)3255-2491\n",
      "* elehr@trt4.jus.br\n",
      "DIBD/SETIC/TRT4\n",
      "------------------------------------------------------------------------------------------\n",
      "--------| NEW_REPORT\n",
      "# Relatório Técnico\n",
      "\n",
      "## Descrição do Problema\n",
      "Erro ao realizar operações na base do Infor de São Leopoldo.\n",
      "\n",
      "## Tecnologias\n",
      "- Infor\n",
      "- Banco de Dados\n",
      "- TNS (Transparent Network Substrate)\n",
      "\n",
      "## Descrição\n",
      "Foi reportado um erro ao tentar conectar à base do Infor de São Leopoldo. A mensagem de erro gerada foi:\n",
      "\n",
      "```\n",
      "[2024-01-12 11:41:18] Falha ao conectar … base do inFOR de SÆo Leopoldo 1¦\n",
      "> VT (SAOLEO.WORLD) com o usu rio inforadm: Exception calling \"Open\" with \"0\"\n",
      "> argument(s): \"ORA-12541: TNS: nÆo h  listener\"\n",
      "```\n",
      "\n",
      "O erro indica que não há um listener disponível para a conexão com a base de dados. Além disso, foi mencionado que a configuração do listener deve ser verificada, pois pode estar inativa ou mal configurada.\n",
      "\n",
      "## Solução\n",
      "Não foram apresentadas soluções específicas nas strings fornecidas, mas a verificação da configuração do listener foi sugerida como um passo a ser considerado.\n",
      "------------------------------------------------------------------------------------------\n"
     ]
    }
   ],
   "source": [
    "old_report, email, new_report, final_report = test_prompt(final_report, next(df_iter))\n",
    "reports.append( ( old_report, email, new_report, final_report ) )"
   ]
  },
  {
   "cell_type": "code",
   "execution_count": null,
   "metadata": {},
   "outputs": [],
   "source": []
  },
  {
   "cell_type": "code",
   "execution_count": null,
   "metadata": {},
   "outputs": [],
   "source": []
  },
  {
   "cell_type": "code",
   "execution_count": null,
   "metadata": {},
   "outputs": [],
   "source": [
    "fazer o reort creator fazr output de json e fazer uma chave pro texto e outra pra solução.\n",
    "tem q ser assim se nao o criador pega a solucao do old relatorio e acha q foi alguem q sugeriu e começa a entrar um loop nisso.\n"
   ]
  }
 ],
 "metadata": {
  "kernelspec": {
   "display_name": ".venv",
   "language": "python",
   "name": "python3"
  },
  "language_info": {
   "codemirror_mode": {
    "name": "ipython",
    "version": 3
   },
   "file_extension": ".py",
   "mimetype": "text/x-python",
   "name": "python",
   "nbconvert_exporter": "python",
   "pygments_lexer": "ipython3",
   "version": "3.10.14"
  }
 },
 "nbformat": 4,
 "nbformat_minor": 2
}
