{
 "cells": [
  {
   "cell_type": "code",
   "execution_count": 1,
   "metadata": {},
   "outputs": [],
   "source": [
    "import pandas as pd"
   ]
  },
  {
   "cell_type": "code",
   "execution_count": 2,
   "metadata": {},
   "outputs": [
    {
     "name": "stdout",
     "output_type": "stream",
     "text": [
      "<class 'pandas.core.frame.DataFrame'>\n",
      "Index: 11 entries, 76 to 100\n",
      "Data columns (total 5 columns):\n",
      " #   Column            Non-Null Count  Dtype \n",
      "---  ------            --------------  ----- \n",
      " 0   threadId          11 non-null     object\n",
      " 1   from              11 non-null     object\n",
      " 2   date              11 non-null     object\n",
      " 3   body_cleaned      11 non-null     object\n",
      " 4   body_cleaned_len  11 non-null     int64 \n",
      "dtypes: int64(1), object(4)\n",
      "memory usage: 528.0+ bytes\n"
     ]
    }
   ],
   "source": [
    "df_thread = pd.read_csv('thread_18cff0b946f3a4d4_cleaned.csv', index_col='Unnamed: 0')\n",
    "df_thread.info()"
   ]
  },
  {
   "cell_type": "code",
   "execution_count": 3,
   "metadata": {},
   "outputs": [
    {
     "data": {
      "text/html": [
       "<div>\n",
       "<style scoped>\n",
       "    .dataframe tbody tr th:only-of-type {\n",
       "        vertical-align: middle;\n",
       "    }\n",
       "\n",
       "    .dataframe tbody tr th {\n",
       "        vertical-align: top;\n",
       "    }\n",
       "\n",
       "    .dataframe thead th {\n",
       "        text-align: right;\n",
       "    }\n",
       "</style>\n",
       "<table border=\"1\" class=\"dataframe\">\n",
       "  <thead>\n",
       "    <tr style=\"text-align: right;\">\n",
       "      <th></th>\n",
       "      <th>threadId</th>\n",
       "      <th>from</th>\n",
       "      <th>date</th>\n",
       "      <th>body_cleaned</th>\n",
       "      <th>body_cleaned_len</th>\n",
       "    </tr>\n",
       "  </thead>\n",
       "  <tbody>\n",
       "    <tr>\n",
       "      <th>0</th>\n",
       "      <td>18cff0b946f3a4d4</td>\n",
       "      <td>Felipe dos Santos Giacomel &lt;felipe.giacomel@tr...</td>\n",
       "      <td>2024-01-12 15:59:44-03:00</td>\n",
       "      <td>Prezada DGBD, boa tarde!\\r\\n\\r\\nEstamos com er...</td>\n",
       "      <td>105</td>\n",
       "    </tr>\n",
       "    <tr>\n",
       "      <th>1</th>\n",
       "      <td>18cff0b946f3a4d4</td>\n",
       "      <td>Edson Elnei Lehr &lt;elehr@trt4.jus.br&gt;</td>\n",
       "      <td>2024-01-12 16:29:16-03:00</td>\n",
       "      <td>Copiando para o e-mail correto da DIBD.\\r\\n\\r\\...</td>\n",
       "      <td>15</td>\n",
       "    </tr>\n",
       "    <tr>\n",
       "      <th>2</th>\n",
       "      <td>18cff0b946f3a4d4</td>\n",
       "      <td>Edson Elnei Lehr &lt;elehr@trt4.jus.br&gt;</td>\n",
       "      <td>2024-01-12 17:09:03-03:00</td>\n",
       "      <td>Parece ser de tnsnames.ora desatualizado na es...</td>\n",
       "      <td>36</td>\n",
       "    </tr>\n",
       "    <tr>\n",
       "      <th>3</th>\n",
       "      <td>18cff0b946f3a4d4</td>\n",
       "      <td>Felipe dos Santos Giacomel &lt;felipe.giacomel@tr...</td>\n",
       "      <td>2024-01-12 17:29:30-03:00</td>\n",
       "      <td>Obrigado, Edson.</td>\n",
       "      <td>2</td>\n",
       "    </tr>\n",
       "    <tr>\n",
       "      <th>4</th>\n",
       "      <td>18cff0b946f3a4d4</td>\n",
       "      <td>Evandro Bassanesi &lt;evandro.bassanesi@trt4.jus.br&gt;</td>\n",
       "      <td>2024-01-12 17:34:50-03:00</td>\n",
       "      <td>Felipe,\\r\\n\\r\\nEste está desatualizado. O banc...</td>\n",
       "      <td>24</td>\n",
       "    </tr>\n",
       "    <tr>\n",
       "      <th>5</th>\n",
       "      <td>18cff0b946f3a4d4</td>\n",
       "      <td>Felipe dos Santos Giacomel &lt;felipe.giacomel@tr...</td>\n",
       "      <td>2024-01-12 17:46:45-03:00</td>\n",
       "      <td>Vamos atualizar. Obrigado!\\r\\n\\r\\n\\r\\nAtencios...</td>\n",
       "      <td>18</td>\n",
       "    </tr>\n",
       "    <tr>\n",
       "      <th>6</th>\n",
       "      <td>18cff0b946f3a4d4</td>\n",
       "      <td>Paulo Ricardo Ritter &lt;pritter@trt4.jus.br&gt;</td>\n",
       "      <td>2024-01-15 08:58:54-03:00</td>\n",
       "      <td>Felipe, isso não ocorre no servidor do Markvis...</td>\n",
       "      <td>104</td>\n",
       "    </tr>\n",
       "    <tr>\n",
       "      <th>7</th>\n",
       "      <td>18cff0b946f3a4d4</td>\n",
       "      <td>Paulo Ricardo Ritter &lt;pritter@trt4.jus.br&gt;</td>\n",
       "      <td>2024-01-15 09:19:39-03:00</td>\n",
       "      <td>Agora que entendi, o problema  que refere, não...</td>\n",
       "      <td>46</td>\n",
       "    </tr>\n",
       "    <tr>\n",
       "      <th>8</th>\n",
       "      <td>18cff0b946f3a4d4</td>\n",
       "      <td>Paulo Ricardo Ritter &lt;pritter@trt4.jus.br&gt;</td>\n",
       "      <td>2024-01-15 10:18:12-03:00</td>\n",
       "      <td>A GPO de atualização do TNSnames (desktop-all-...</td>\n",
       "      <td>28</td>\n",
       "    </tr>\n",
       "    <tr>\n",
       "      <th>9</th>\n",
       "      <td>18cff0b946f3a4d4</td>\n",
       "      <td>Francisco Flesch &lt;francisco.flesch@trt4.jus.br&gt;</td>\n",
       "      <td>2024-01-15 11:05:28-03:00</td>\n",
       "      <td>Eu troquei o TNSnames na última vez que deu pr...</td>\n",
       "      <td>41</td>\n",
       "    </tr>\n",
       "    <tr>\n",
       "      <th>10</th>\n",
       "      <td>18cff0b946f3a4d4</td>\n",
       "      <td>Felipe dos Santos Giacomel &lt;felipe.giacomel@tr...</td>\n",
       "      <td>2024-01-15 12:05:23-03:00</td>\n",
       "      <td>Obrigado, Paulo!\\r\\n\\r\\nSe não houver objeção ...</td>\n",
       "      <td>34</td>\n",
       "    </tr>\n",
       "  </tbody>\n",
       "</table>\n",
       "</div>"
      ],
      "text/plain": [
       "            threadId                                               from  \\\n",
       "0   18cff0b946f3a4d4  Felipe dos Santos Giacomel <felipe.giacomel@tr...   \n",
       "1   18cff0b946f3a4d4               Edson Elnei Lehr <elehr@trt4.jus.br>   \n",
       "2   18cff0b946f3a4d4               Edson Elnei Lehr <elehr@trt4.jus.br>   \n",
       "3   18cff0b946f3a4d4  Felipe dos Santos Giacomel <felipe.giacomel@tr...   \n",
       "4   18cff0b946f3a4d4  Evandro Bassanesi <evandro.bassanesi@trt4.jus.br>   \n",
       "5   18cff0b946f3a4d4  Felipe dos Santos Giacomel <felipe.giacomel@tr...   \n",
       "6   18cff0b946f3a4d4         Paulo Ricardo Ritter <pritter@trt4.jus.br>   \n",
       "7   18cff0b946f3a4d4         Paulo Ricardo Ritter <pritter@trt4.jus.br>   \n",
       "8   18cff0b946f3a4d4         Paulo Ricardo Ritter <pritter@trt4.jus.br>   \n",
       "9   18cff0b946f3a4d4    Francisco Flesch <francisco.flesch@trt4.jus.br>   \n",
       "10  18cff0b946f3a4d4  Felipe dos Santos Giacomel <felipe.giacomel@tr...   \n",
       "\n",
       "                         date  \\\n",
       "0   2024-01-12 15:59:44-03:00   \n",
       "1   2024-01-12 16:29:16-03:00   \n",
       "2   2024-01-12 17:09:03-03:00   \n",
       "3   2024-01-12 17:29:30-03:00   \n",
       "4   2024-01-12 17:34:50-03:00   \n",
       "5   2024-01-12 17:46:45-03:00   \n",
       "6   2024-01-15 08:58:54-03:00   \n",
       "7   2024-01-15 09:19:39-03:00   \n",
       "8   2024-01-15 10:18:12-03:00   \n",
       "9   2024-01-15 11:05:28-03:00   \n",
       "10  2024-01-15 12:05:23-03:00   \n",
       "\n",
       "                                         body_cleaned  body_cleaned_len  \n",
       "0   Prezada DGBD, boa tarde!\\r\\n\\r\\nEstamos com er...               105  \n",
       "1   Copiando para o e-mail correto da DIBD.\\r\\n\\r\\...                15  \n",
       "2   Parece ser de tnsnames.ora desatualizado na es...                36  \n",
       "3                                    Obrigado, Edson.                 2  \n",
       "4   Felipe,\\r\\n\\r\\nEste está desatualizado. O banc...                24  \n",
       "5   Vamos atualizar. Obrigado!\\r\\n\\r\\n\\r\\nAtencios...                18  \n",
       "6   Felipe, isso não ocorre no servidor do Markvis...               104  \n",
       "7   Agora que entendi, o problema  que refere, não...                46  \n",
       "8   A GPO de atualização do TNSnames (desktop-all-...                28  \n",
       "9   Eu troquei o TNSnames na última vez que deu pr...                41  \n",
       "10  Obrigado, Paulo!\\r\\n\\r\\nSe não houver objeção ...                34  "
      ]
     },
     "execution_count": 3,
     "metadata": {},
     "output_type": "execute_result"
    }
   ],
   "source": [
    "df_thread = df_thread.reset_index().drop('index', axis=1)\n",
    "df_thread"
   ]
  },
  {
   "cell_type": "code",
   "execution_count": 4,
   "metadata": {},
   "outputs": [],
   "source": [
    "from langchain_openai import ChatOpenAI\n",
    "\n",
    "llm = ChatOpenAI(model=\"gpt-3.5-turbo-0125\", temperature=0)"
   ]
  },
  {
   "cell_type": "code",
   "execution_count": 7,
   "metadata": {},
   "outputs": [],
   "source": [
    "from langchain.text_splitter import CharacterTextSplitter\n",
    "\n",
    "splitter = CharacterTextSplitter(\n",
    "    separator = \"\\n\\n\",  # Split character (default \\n\\n)\n",
    "    chunk_size=100,\n",
    "    chunk_overlap=1,\n",
    "    length_function=len,\n",
    ")"
   ]
  },
  {
   "cell_type": "code",
   "execution_count": 9,
   "metadata": {},
   "outputs": [],
   "source": [
    "text = \"\"\"\n",
    "Prezada DGBD, boa tarde!\n",
    "\n",
    "Estamos com erro ao fazer operações na base do Infor de São Leopoldo. Podem\n",
    "dar uma olhada, por favor?\n",
    "\n",
    "\n",
    "[2024-01-12 11:41:18] Falha ao conectar … base do inFOR de SÆo Leopoldo 1¦\n",
    "> VT (SAOLEO.WORLD) com o usu rio inforadm: Exception calling \"\"Open\"\" with \"\"0\"\"\n",
    "> argument(s): \"\"ORA-12541: TNS: nÆo h  listener\"\"\n",
    "\n",
    "\n",
    "\n",
    "\n",
    "Atenciosamente,\n",
    "\n",
    "Felipe Giacomel\n",
    "Divisão de Microinformática\n",
    "TRT4 - Secretaria de Tecnologia da Informação e Comunicações\n",
    "\n",
    "-- \n",
    "You received this message because you are subscribed to the Google Groups \"\"SETIC-DIM- Divisao de Microinformatica\"\" group.\n",
    "To unsubscribe from this group and stop receiving emails from it, send an email to setic.dim-lista+unsubscribe@trt4.jus.br.\n",
    "\"\"\""
   ]
  },
  {
   "cell_type": "code",
   "execution_count": 13,
   "metadata": {},
   "outputs": [
    {
     "name": "stderr",
     "output_type": "stream",
     "text": [
      "Created a chunk of size 102, which is longer than the specified 100\n",
      "Created a chunk of size 208, which is longer than the specified 100\n",
      "Created a chunk of size 104, which is longer than the specified 100\n"
     ]
    }
   ],
   "source": [
    "splits = splitter.split_text(text)"
   ]
  },
  {
   "cell_type": "code",
   "execution_count": 21,
   "metadata": {},
   "outputs": [
    {
     "data": {
      "text/plain": [
       "{0: 'Prezada DGBD, boa tarde!',\n",
       " 1: 'Estamos com erro ao fazer operações na base do Infor de São Leopoldo. Podem\\ndar uma olhada, por favor?',\n",
       " 2: '[2024-01-12 11:41:18] Falha ao conectar … base do inFOR de SÆo Leopoldo 1¦\\n> VT (SAOLEO.WORLD) com o usu rio inforadm: Exception calling \"\"Open\"\" with \"\"0\"\"\\n> argument(s): \"\"ORA-12541: TNS: nÆo h  listener\"\"',\n",
       " 3: 'Atenciosamente,',\n",
       " 4: 'Felipe Giacomel\\nDivisão de Microinformática\\nTRT4 - Secretaria de Tecnologia da Informação e Comunicações',\n",
       " 5: '-- \\nYou received this message because you are subscribed to the Google Groups \"\"SETIC-DIM- Divisao de Microinformatica\"\" group.\\nTo unsubscribe from this group and stop receiving emails from it, send an email to setic.dim-lista+unsubscribe@trt4.jus.br.'}"
      ]
     },
     "execution_count": 21,
     "metadata": {},
     "output_type": "execute_result"
    }
   ],
   "source": [
    "strings = { k:v for (k,v) in zip(range(len(splits)), splits) }\n",
    "strings"
   ]
  },
  {
   "cell_type": "code",
   "execution_count": 19,
   "metadata": {},
   "outputs": [],
   "source": [
    "prompt_grader_importante_system = \"\"\"\n",
    "    You are a helpful assistant who is in charge of classifying strings as either interesting to a use case or not.\n",
    "    This strings will be used by another llm to generate a report and a knowledge base fo a IT company.\n",
    "    So the use case is to determine if the string contain helpful information to create a knowledge base or not.\n",
    "\n",
    "    You should output a json. Key shold be the key of the string, the value should be the boolean value\n",
    "\"\"\"\n",
    "\n",
    "\n",
    "prompt_grader_importante_user = \"\"\"\n",
    "    {strings}\n",
    "\"\"\"\n",
    "\n",
    "from langchain_core.prompts import ChatPromptTemplate\n",
    "\n",
    "prompt_grader = ChatPromptTemplate.from_messages(\n",
    "    [(\"system\", prompt_grader_importante_system), (\"user\", prompt_grader_importante_user)]\n",
    ")"
   ]
  },
  {
   "cell_type": "code",
   "execution_count": 20,
   "metadata": {},
   "outputs": [],
   "source": [
    "chain_grader = prompt_grader | llm"
   ]
  },
  {
   "cell_type": "code",
   "execution_count": 22,
   "metadata": {},
   "outputs": [
    {
     "data": {
      "text/plain": [
       "AIMessage(content='{\\n    \"0\": false,\\n    \"1\": true,\\n    \"2\": true,\\n    \"3\": false,\\n    \"4\": false,\\n    \"5\": false\\n}', response_metadata={'token_usage': {'completion_tokens': 38, 'prompt_tokens': 361, 'total_tokens': 399}, 'model_name': 'gpt-3.5-turbo-0125', 'system_fingerprint': None, 'finish_reason': 'stop', 'logprobs': None}, id='run-a100994a-49a0-4e9a-bda9-5f77128ff69b-0', usage_metadata={'input_tokens': 361, 'output_tokens': 38, 'total_tokens': 399})"
      ]
     },
     "execution_count": 22,
     "metadata": {},
     "output_type": "execute_result"
    }
   ],
   "source": [
    "response = chain_grader.invoke({\"strings\": strings})\n",
    "response"
   ]
  },
  {
   "cell_type": "code",
   "execution_count": 24,
   "metadata": {},
   "outputs": [
    {
     "name": "stdout",
     "output_type": "stream",
     "text": [
      "{\n",
      "    \"0\": false,\n",
      "    \"1\": true,\n",
      "    \"2\": true,\n",
      "    \"3\": false,\n",
      "    \"4\": false,\n",
      "    \"5\": false\n",
      "}\n"
     ]
    }
   ],
   "source": [
    "print( response.content )"
   ]
  },
  {
   "cell_type": "code",
   "execution_count": 26,
   "metadata": {},
   "outputs": [
    {
     "data": {
      "text/plain": [
       "{0: 'Prezada DGBD, boa tarde!',\n",
       " 1: 'Estamos com erro ao fazer operações na base do Infor de São Leopoldo. Podem\\ndar uma olhada, por favor?',\n",
       " 2: '[2024-01-12 11:41:18] Falha ao conectar … base do inFOR de SÆo Leopoldo 1¦\\n> VT (SAOLEO.WORLD) com o usu rio inforadm: Exception calling \"\"Open\"\" with \"\"0\"\"\\n> argument(s): \"\"ORA-12541: TNS: nÆo h  listener\"\"',\n",
       " 3: 'Atenciosamente,',\n",
       " 4: 'Felipe Giacomel\\nDivisão de Microinformática\\nTRT4 - Secretaria de Tecnologia da Informação e Comunicações',\n",
       " 5: '-- \\nYou received this message because you are subscribed to the Google Groups \"\"SETIC-DIM- Divisao de Microinformatica\"\" group.\\nTo unsubscribe from this group and stop receiving emails from it, send an email to setic.dim-lista+unsubscribe@trt4.jus.br.'}"
      ]
     },
     "execution_count": 26,
     "metadata": {},
     "output_type": "execute_result"
    }
   ],
   "source": [
    "strings"
   ]
  },
  {
   "cell_type": "code",
   "execution_count": null,
   "metadata": {},
   "outputs": [],
   "source": []
  },
  {
   "cell_type": "code",
   "execution_count": 27,
   "metadata": {},
   "outputs": [],
   "source": [
    "prompt_grader_importante_system = \"\"\"\n",
    "    You are a helpful assistant who is in charge of classifying strings as either interesting to a use case or not.\n",
    "    This strings will be used by another llm to generate a report and a knowledge base fo a IT company.\n",
    "    So the use case is to determine if the string contain helpful information to create a knowledge base or not.\n",
    "\n",
    "    You should output a json. Key shold be the key of the string, the value should be a tuple with the boolean value and the explaination of why it is important.\n",
    "\"\"\"\n",
    "\n",
    "\n",
    "prompt_grader_importante_user = \"\"\"\n",
    "    {strings}\n",
    "\"\"\"\n",
    "\n",
    "from langchain_core.prompts import ChatPromptTemplate\n",
    "\n",
    "prompt_grader = ChatPromptTemplate.from_messages(\n",
    "    [(\"system\", prompt_grader_importante_system), (\"user\", prompt_grader_importante_user)]\n",
    ")"
   ]
  },
  {
   "cell_type": "code",
   "execution_count": 28,
   "metadata": {},
   "outputs": [],
   "source": [
    "chain_grader = prompt_grader | llm"
   ]
  },
  {
   "cell_type": "code",
   "execution_count": 29,
   "metadata": {},
   "outputs": [
    {
     "data": {
      "text/plain": [
       "AIMessage(content='{\\n    \"0\": [false, \"This string is a simple greeting and does not contain any relevant information for a knowledge base.\"],\\n    \"1\": [true, \"This string contains information about an error while performing operations on the Infor database in São Leopoldo, which can be helpful for troubleshooting and creating a knowledge base.\"],\\n    \"2\": [true, \"This string provides detailed information about a connection failure to the Infor database in São Leopoldo, including error messages and user information, which is important for diagnosing and resolving the issue.\"],\\n    \"3\": [false, \"This string is a simple closing remark and does not contain any relevant information for a knowledge base.\"],\\n    \"4\": [false, \"This string contains information about the sender\\'s name, division, and organization, but it is not directly related to creating a knowledge base.\"],\\n    \"5\": [false, \"This string is a standard email footer and does not contain any relevant information for a knowledge base.\"]\\n}', response_metadata={'token_usage': {'completion_tokens': 211, 'prompt_tokens': 373, 'total_tokens': 584}, 'model_name': 'gpt-3.5-turbo-0125', 'system_fingerprint': None, 'finish_reason': 'stop', 'logprobs': None}, id='run-bbc5f67c-0268-4eb0-95e8-3007fd65fe58-0', usage_metadata={'input_tokens': 373, 'output_tokens': 211, 'total_tokens': 584})"
      ]
     },
     "execution_count": 29,
     "metadata": {},
     "output_type": "execute_result"
    }
   ],
   "source": [
    "response = chain_grader.invoke({\"strings\": strings})\n",
    "response"
   ]
  },
  {
   "cell_type": "code",
   "execution_count": 30,
   "metadata": {},
   "outputs": [
    {
     "name": "stdout",
     "output_type": "stream",
     "text": [
      "{\n",
      "    \"0\": [false, \"This string is a simple greeting and does not contain any relevant information for a knowledge base.\"],\n",
      "    \"1\": [true, \"This string contains information about an error while performing operations on the Infor database in São Leopoldo, which can be helpful for troubleshooting and creating a knowledge base.\"],\n",
      "    \"2\": [true, \"This string provides detailed information about a connection failure to the Infor database in São Leopoldo, including error messages and user information, which is important for diagnosing and resolving the issue.\"],\n",
      "    \"3\": [false, \"This string is a simple closing remark and does not contain any relevant information for a knowledge base.\"],\n",
      "    \"4\": [false, \"This string contains information about the sender's name, division, and organization, but it is not directly related to creating a knowledge base.\"],\n",
      "    \"5\": [false, \"This string is a standard email footer and does not contain any relevant information for a knowledge base.\"]\n",
      "}\n"
     ]
    }
   ],
   "source": [
    "print( response.content )"
   ]
  },
  {
   "cell_type": "code",
   "execution_count": 31,
   "metadata": {},
   "outputs": [
    {
     "data": {
      "text/plain": [
       "{0: 'Prezada DGBD, boa tarde!',\n",
       " 1: 'Estamos com erro ao fazer operações na base do Infor de São Leopoldo. Podem\\ndar uma olhada, por favor?',\n",
       " 2: '[2024-01-12 11:41:18] Falha ao conectar … base do inFOR de SÆo Leopoldo 1¦\\n> VT (SAOLEO.WORLD) com o usu rio inforadm: Exception calling \"\"Open\"\" with \"\"0\"\"\\n> argument(s): \"\"ORA-12541: TNS: nÆo h  listener\"\"',\n",
       " 3: 'Atenciosamente,',\n",
       " 4: 'Felipe Giacomel\\nDivisão de Microinformática\\nTRT4 - Secretaria de Tecnologia da Informação e Comunicações',\n",
       " 5: '-- \\nYou received this message because you are subscribed to the Google Groups \"\"SETIC-DIM- Divisao de Microinformatica\"\" group.\\nTo unsubscribe from this group and stop receiving emails from it, send an email to setic.dim-lista+unsubscribe@trt4.jus.br.'}"
      ]
     },
     "execution_count": 31,
     "metadata": {},
     "output_type": "execute_result"
    }
   ],
   "source": [
    "strings"
   ]
  },
  {
   "cell_type": "code",
   "execution_count": null,
   "metadata": {},
   "outputs": [],
   "source": [
    "prompt_report_creator_system = \"\"\"\n",
    "    You are an expert copy-writer that write email conversation reports.\n",
    "    You will receive two inputs: a knowledge base document of a IT company and a list of strings extracted from a conversation between IT Technicians.\n",
    "    You should consolidate the strings into the knowledge base document.\n",
    "    Some strings should by copied char by char, like log strings, error messages.\n",
    "    The language of the conversation is generaly in Brazilian Portuguese. So your summary should be in Brazilian Portuguese.\n",
    "    Dont write uninformative phrases like \"the email discusses\".\n",
    "    \"\"\"\n",
    "\n",
    "prompt_report_creator_user = \"\"\"\n",
    "    PREVIOUS REPORT BELOW\n",
    "    {REPORT}\n",
    "    \n",
    "    STRINGS TO BE CONSOLIDATED BELOW\n",
    "    {STRINGS}\n",
    "\"\"\"\n",
    "\n",
    "from langchain_core.prompts import ChatPromptTemplate\n",
    "\n",
    "prompt_report = ChatPromptTemplate.from_messages(\n",
    "    [(\"system\", prompt_report_creator_system), (\"user\", prompt_report_creator_user)]\n",
    ")"
   ]
  },
  {
   "cell_type": "code",
   "execution_count": null,
   "metadata": {},
   "outputs": [],
   "source": [
    "chain_report = prompt_report | llm"
   ]
  }
 ],
 "metadata": {
  "kernelspec": {
   "display_name": ".venv",
   "language": "python",
   "name": "python3"
  },
  "language_info": {
   "codemirror_mode": {
    "name": "ipython",
    "version": 3
   },
   "file_extension": ".py",
   "mimetype": "text/x-python",
   "name": "python",
   "nbconvert_exporter": "python",
   "pygments_lexer": "ipython3",
   "version": "3.10.14"
  }
 },
 "nbformat": 4,
 "nbformat_minor": 2
}
