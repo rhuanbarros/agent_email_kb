{
 "cells": [
  {
   "cell_type": "code",
   "execution_count": 88,
   "metadata": {},
   "outputs": [],
   "source": [
    "import pandas as pd"
   ]
  },
  {
   "cell_type": "code",
   "execution_count": 89,
   "metadata": {},
   "outputs": [
    {
     "name": "stdout",
     "output_type": "stream",
     "text": [
      "<class 'pandas.core.frame.DataFrame'>\n",
      "Index: 11 entries, 76 to 100\n",
      "Data columns (total 5 columns):\n",
      " #   Column            Non-Null Count  Dtype \n",
      "---  ------            --------------  ----- \n",
      " 0   threadId          11 non-null     object\n",
      " 1   from              11 non-null     object\n",
      " 2   date              11 non-null     object\n",
      " 3   body_cleaned      11 non-null     object\n",
      " 4   body_cleaned_len  11 non-null     int64 \n",
      "dtypes: int64(1), object(4)\n",
      "memory usage: 528.0+ bytes\n"
     ]
    }
   ],
   "source": [
    "df_thread = pd.read_csv('thread_18cff0b946f3a4d4_cleaned.csv', index_col='Unnamed: 0')\n",
    "df_thread.info()"
   ]
  },
  {
   "cell_type": "code",
   "execution_count": 90,
   "metadata": {},
   "outputs": [
    {
     "data": {
      "text/html": [
       "<div>\n",
       "<style scoped>\n",
       "    .dataframe tbody tr th:only-of-type {\n",
       "        vertical-align: middle;\n",
       "    }\n",
       "\n",
       "    .dataframe tbody tr th {\n",
       "        vertical-align: top;\n",
       "    }\n",
       "\n",
       "    .dataframe thead th {\n",
       "        text-align: right;\n",
       "    }\n",
       "</style>\n",
       "<table border=\"1\" class=\"dataframe\">\n",
       "  <thead>\n",
       "    <tr style=\"text-align: right;\">\n",
       "      <th></th>\n",
       "      <th>threadId</th>\n",
       "      <th>from</th>\n",
       "      <th>date</th>\n",
       "      <th>body_cleaned</th>\n",
       "      <th>body_cleaned_len</th>\n",
       "    </tr>\n",
       "  </thead>\n",
       "  <tbody>\n",
       "    <tr>\n",
       "      <th>0</th>\n",
       "      <td>18cff0b946f3a4d4</td>\n",
       "      <td>Felipe dos Santos Giacomel &lt;felipe.giacomel@tr...</td>\n",
       "      <td>2024-01-12 15:59:44-03:00</td>\n",
       "      <td>Prezada DGBD, boa tarde!\\r\\n\\r\\nEstamos com er...</td>\n",
       "      <td>105</td>\n",
       "    </tr>\n",
       "    <tr>\n",
       "      <th>1</th>\n",
       "      <td>18cff0b946f3a4d4</td>\n",
       "      <td>Edson Elnei Lehr &lt;elehr@trt4.jus.br&gt;</td>\n",
       "      <td>2024-01-12 16:29:16-03:00</td>\n",
       "      <td>Copiando para o e-mail correto da DIBD.\\r\\n\\r\\...</td>\n",
       "      <td>15</td>\n",
       "    </tr>\n",
       "    <tr>\n",
       "      <th>2</th>\n",
       "      <td>18cff0b946f3a4d4</td>\n",
       "      <td>Edson Elnei Lehr &lt;elehr@trt4.jus.br&gt;</td>\n",
       "      <td>2024-01-12 17:09:03-03:00</td>\n",
       "      <td>Parece ser de tnsnames.ora desatualizado na es...</td>\n",
       "      <td>36</td>\n",
       "    </tr>\n",
       "    <tr>\n",
       "      <th>3</th>\n",
       "      <td>18cff0b946f3a4d4</td>\n",
       "      <td>Felipe dos Santos Giacomel &lt;felipe.giacomel@tr...</td>\n",
       "      <td>2024-01-12 17:29:30-03:00</td>\n",
       "      <td>Obrigado, Edson.</td>\n",
       "      <td>2</td>\n",
       "    </tr>\n",
       "    <tr>\n",
       "      <th>4</th>\n",
       "      <td>18cff0b946f3a4d4</td>\n",
       "      <td>Evandro Bassanesi &lt;evandro.bassanesi@trt4.jus.br&gt;</td>\n",
       "      <td>2024-01-12 17:34:50-03:00</td>\n",
       "      <td>Felipe,\\r\\n\\r\\nEste está desatualizado. O banc...</td>\n",
       "      <td>24</td>\n",
       "    </tr>\n",
       "    <tr>\n",
       "      <th>5</th>\n",
       "      <td>18cff0b946f3a4d4</td>\n",
       "      <td>Felipe dos Santos Giacomel &lt;felipe.giacomel@tr...</td>\n",
       "      <td>2024-01-12 17:46:45-03:00</td>\n",
       "      <td>Vamos atualizar. Obrigado!\\r\\n\\r\\n\\r\\nAtencios...</td>\n",
       "      <td>18</td>\n",
       "    </tr>\n",
       "    <tr>\n",
       "      <th>6</th>\n",
       "      <td>18cff0b946f3a4d4</td>\n",
       "      <td>Paulo Ricardo Ritter &lt;pritter@trt4.jus.br&gt;</td>\n",
       "      <td>2024-01-15 08:58:54-03:00</td>\n",
       "      <td>Felipe, isso não ocorre no servidor do Markvis...</td>\n",
       "      <td>104</td>\n",
       "    </tr>\n",
       "    <tr>\n",
       "      <th>7</th>\n",
       "      <td>18cff0b946f3a4d4</td>\n",
       "      <td>Paulo Ricardo Ritter &lt;pritter@trt4.jus.br&gt;</td>\n",
       "      <td>2024-01-15 09:19:39-03:00</td>\n",
       "      <td>Agora que entendi, o problema  que refere, não...</td>\n",
       "      <td>46</td>\n",
       "    </tr>\n",
       "    <tr>\n",
       "      <th>8</th>\n",
       "      <td>18cff0b946f3a4d4</td>\n",
       "      <td>Paulo Ricardo Ritter &lt;pritter@trt4.jus.br&gt;</td>\n",
       "      <td>2024-01-15 10:18:12-03:00</td>\n",
       "      <td>A GPO de atualização do TNSnames (desktop-all-...</td>\n",
       "      <td>28</td>\n",
       "    </tr>\n",
       "    <tr>\n",
       "      <th>9</th>\n",
       "      <td>18cff0b946f3a4d4</td>\n",
       "      <td>Francisco Flesch &lt;francisco.flesch@trt4.jus.br&gt;</td>\n",
       "      <td>2024-01-15 11:05:28-03:00</td>\n",
       "      <td>Eu troquei o TNSnames na última vez que deu pr...</td>\n",
       "      <td>41</td>\n",
       "    </tr>\n",
       "    <tr>\n",
       "      <th>10</th>\n",
       "      <td>18cff0b946f3a4d4</td>\n",
       "      <td>Felipe dos Santos Giacomel &lt;felipe.giacomel@tr...</td>\n",
       "      <td>2024-01-15 12:05:23-03:00</td>\n",
       "      <td>Obrigado, Paulo!\\r\\n\\r\\nSe não houver objeção ...</td>\n",
       "      <td>34</td>\n",
       "    </tr>\n",
       "  </tbody>\n",
       "</table>\n",
       "</div>"
      ],
      "text/plain": [
       "            threadId                                               from  \\\n",
       "0   18cff0b946f3a4d4  Felipe dos Santos Giacomel <felipe.giacomel@tr...   \n",
       "1   18cff0b946f3a4d4               Edson Elnei Lehr <elehr@trt4.jus.br>   \n",
       "2   18cff0b946f3a4d4               Edson Elnei Lehr <elehr@trt4.jus.br>   \n",
       "3   18cff0b946f3a4d4  Felipe dos Santos Giacomel <felipe.giacomel@tr...   \n",
       "4   18cff0b946f3a4d4  Evandro Bassanesi <evandro.bassanesi@trt4.jus.br>   \n",
       "5   18cff0b946f3a4d4  Felipe dos Santos Giacomel <felipe.giacomel@tr...   \n",
       "6   18cff0b946f3a4d4         Paulo Ricardo Ritter <pritter@trt4.jus.br>   \n",
       "7   18cff0b946f3a4d4         Paulo Ricardo Ritter <pritter@trt4.jus.br>   \n",
       "8   18cff0b946f3a4d4         Paulo Ricardo Ritter <pritter@trt4.jus.br>   \n",
       "9   18cff0b946f3a4d4    Francisco Flesch <francisco.flesch@trt4.jus.br>   \n",
       "10  18cff0b946f3a4d4  Felipe dos Santos Giacomel <felipe.giacomel@tr...   \n",
       "\n",
       "                         date  \\\n",
       "0   2024-01-12 15:59:44-03:00   \n",
       "1   2024-01-12 16:29:16-03:00   \n",
       "2   2024-01-12 17:09:03-03:00   \n",
       "3   2024-01-12 17:29:30-03:00   \n",
       "4   2024-01-12 17:34:50-03:00   \n",
       "5   2024-01-12 17:46:45-03:00   \n",
       "6   2024-01-15 08:58:54-03:00   \n",
       "7   2024-01-15 09:19:39-03:00   \n",
       "8   2024-01-15 10:18:12-03:00   \n",
       "9   2024-01-15 11:05:28-03:00   \n",
       "10  2024-01-15 12:05:23-03:00   \n",
       "\n",
       "                                         body_cleaned  body_cleaned_len  \n",
       "0   Prezada DGBD, boa tarde!\\r\\n\\r\\nEstamos com er...               105  \n",
       "1   Copiando para o e-mail correto da DIBD.\\r\\n\\r\\...                15  \n",
       "2   Parece ser de tnsnames.ora desatualizado na es...                36  \n",
       "3                                    Obrigado, Edson.                 2  \n",
       "4   Felipe,\\r\\n\\r\\nEste está desatualizado. O banc...                24  \n",
       "5   Vamos atualizar. Obrigado!\\r\\n\\r\\n\\r\\nAtencios...                18  \n",
       "6   Felipe, isso não ocorre no servidor do Markvis...               104  \n",
       "7   Agora que entendi, o problema  que refere, não...                46  \n",
       "8   A GPO de atualização do TNSnames (desktop-all-...                28  \n",
       "9   Eu troquei o TNSnames na última vez que deu pr...                41  \n",
       "10  Obrigado, Paulo!\\r\\n\\r\\nSe não houver objeção ...                34  "
      ]
     },
     "execution_count": 90,
     "metadata": {},
     "output_type": "execute_result"
    }
   ],
   "source": [
    "df_thread = df_thread.reset_index().drop('index', axis=1)\n",
    "df_thread"
   ]
  },
  {
   "cell_type": "code",
   "execution_count": 91,
   "metadata": {},
   "outputs": [],
   "source": [
    "from langchain_openai import ChatOpenAI, OpenAI\n",
    "\n",
    "# llm = ChatOpenAI(model=\"gpt-3.5-turbo-0125\", temperature=0)\n",
    "llm = ChatOpenAI(model=\"gpt-4o-mini\", temperature=0)\n",
    "\n",
    "llm_json = ChatOpenAI(model=\"gpt-4o-mini\").bind(\n",
    "    response_format={\"type\": \"json_object\"}\n",
    ")"
   ]
  },
  {
   "cell_type": "code",
   "execution_count": 97,
   "metadata": {},
   "outputs": [],
   "source": [
    "from langchain.text_splitter import RecursiveCharacterTextSplitter\n",
    "\n",
    "splitter = RecursiveCharacterTextSplitter(\n",
    "    chunk_size=100,\n",
    "    chunk_overlap=0,\n",
    "    length_function=len,\n",
    ")"
   ]
  },
  {
   "cell_type": "code",
   "execution_count": 98,
   "metadata": {},
   "outputs": [
    {
     "data": {
      "text/plain": [
       "0     [Prezada DGBD, boa tarde!, Estamos com erro ao...\n",
       "1     [Copiando para o e-mail correto da DIBD.\\r\\n\\r...\n",
       "2     [Parece ser de tnsnames.ora desatualizado na e...\n",
       "3                                    [Obrigado, Edson.]\n",
       "4     [Felipe,\\r\\n\\r\\nEste está desatualizado. O ban...\n",
       "5     [Vamos atualizar. Obrigado!\\r\\n\\r\\n\\r\\nAtencio...\n",
       "6     [Felipe, isso não ocorre no servidor do Markvi...\n",
       "7     [Agora que entendi, o problema  que refere, nã...\n",
       "8     [A GPO de atualização do TNSnames (desktop-all...\n",
       "9     [Eu troquei o TNSnames na última vez que deu p...\n",
       "10    [Obrigado, Paulo!\\r\\n\\r\\nSe não houver objeção...\n",
       "Name: splits, dtype: object"
      ]
     },
     "execution_count": 98,
     "metadata": {},
     "output_type": "execute_result"
    }
   ],
   "source": [
    "df_thread['splits'] = df_thread.apply(lambda row: splitter.split_text(row['body_cleaned']), axis=1)\n",
    "df_thread['splits']"
   ]
  },
  {
   "cell_type": "code",
   "execution_count": 95,
   "metadata": {},
   "outputs": [],
   "source": [
    "prompt_grader_importancy_system = \"\"\"\n",
    "    You are a helpful assistant who is in charge of classifying strings as either interesting to a use case or not.\n",
    "    This strings will be used by another llm to generate a report and a knowledge base fo a IT company.\n",
    "    So the use case is to determine if the string contain helpful information to create a knowledge base or not.\n",
    "    Helpefull information (grade as True): problem, information about something, solutions, questions\n",
    "    Not helpfull information (grade as False): names, emails, phone numbers, someone saying that wil send email or something like this.\n",
    "\n",
    "    You should output a json. Key shold be the key of the string, the value should be the boolean value\n",
    "\"\"\"\n",
    "\n",
    "\n",
    "prompt_grader_importancy_user = \"\"\"\n",
    "    {STRINGS}\n",
    "\"\"\"\n",
    "\n",
    "from langchain_core.prompts import ChatPromptTemplate\n",
    "\n",
    "prompt_grader = ChatPromptTemplate.from_messages([\n",
    "    (\"system\", prompt_grader_importancy_system), \n",
    "    (\"user\", prompt_grader_importancy_user)\n",
    "    ])"
   ]
  },
  {
   "cell_type": "code",
   "execution_count": 96,
   "metadata": {},
   "outputs": [],
   "source": [
    "# chain_grader = prompt_grader | llm\n",
    "chain_grader = prompt_grader | llm_json"
   ]
  },
  {
   "cell_type": "code",
   "execution_count": 101,
   "metadata": {},
   "outputs": [],
   "source": [
    "def string_grader(row):\n",
    "    if len(row):\n",
    "        strings = { k:v for (k,v) in zip(range(len(row)), row) }\n",
    "\n",
    "        # remove all uninformative strings\n",
    "        response = chain_grader.invoke( { 'STRINGS': strings } )\n",
    "        strings_graded = response.content\n",
    "\n",
    "        strings_graded = json.loads(strings_graded)\n",
    "\n",
    "        # # get useful strings\n",
    "        strings_graded_filtered = [ strings[int(k)] for (k,v) in strings_graded.items() if v == True ]\n",
    "        \n",
    "        return \"\\n\\n\".join(strings_graded_filtered)"
   ]
  },
  {
   "cell_type": "code",
   "execution_count": 102,
   "metadata": {},
   "outputs": [
    {
     "data": {
      "text/plain": [
       "0     Estamos com erro ao fazer operações na base do...\n",
       "1                                                      \n",
       "2     Parece ser de tnsnames.ora desatualizado na es...\n",
       "3                                                      \n",
       "4     Felipe,\\r\\n\\r\\nEste está desatualizado. O banc...\n",
       "5                                                      \n",
       "6     TNSnames  fica no servidor  Heitor, e  todas a...\n",
       "7     Agora que entendi, o problema  que refere, não...\n",
       "8     A GPO de atualização do TNSnames (desktop-all-...\n",
       "9     Eu troquei o TNSnames na última vez que deu pr...\n",
       "10    Obrigado, Paulo!\\r\\n\\r\\nSe não houver objeção ...\n",
       "Name: splits_selected, dtype: object"
      ]
     },
     "execution_count": 102,
     "metadata": {},
     "output_type": "execute_result"
    }
   ],
   "source": [
    "df_thread['splits_selected'] = df_thread.apply(lambda row: string_grader(row['splits']), axis=1)\n",
    "df_thread['splits_selected']"
   ]
  },
  {
   "cell_type": "code",
   "execution_count": 105,
   "metadata": {},
   "outputs": [],
   "source": [
    "df_thread['len_count'] = df_thread.apply(lambda row: len(str(row['splits_selected']).split()), axis=1)"
   ]
  },
  {
   "cell_type": "code",
   "execution_count": 119,
   "metadata": {},
   "outputs": [],
   "source": [
    "df_thread.to_csv(\"thread.csv\", index=False)"
   ]
  },
  {
   "cell_type": "code",
   "execution_count": 109,
   "metadata": {},
   "outputs": [],
   "source": [
    "prompt_report_creator_system = \"\"\"\n",
    "    You are an expert IT technical writer that create draft of knowledge base documents.\n",
    "    You dont need to give any IT support, you should be impersonal like a newswriter giving a news.\n",
    "    \n",
    "    You will receive two inputs: a knowledge base document of a IT company and a list of strings extracted from a conversation between IT Technicians.\n",
    "    You should consolidate the strings into the knowledge base document.\n",
    "    If the previous report is empty, just create a new one from scratch.\n",
    "\n",
    "    The language of the conversation is generaly in Brazilian Portuguese. So your report should be in Brazilian Portuguese.\n",
    "    \n",
    "    Dont write uninformative phrases like \"relatorio de conversa\".\n",
    "    You should output a technical report structured like a book.    \n",
    "    Do not discuss the email itself, focus rewriting the content\n",
    "    Do not sugest any solution or output any information that are not in the strings or in the previous report.\n",
    "    Dont write like: \"O email fala sobre um problema tal e bla bla.\". \n",
    "    You should be more directly to point.\n",
    "\n",
    "    You should output a json. \n",
    "        Key 'subject': a sentence describing the subject or description of the problem happening. Generaly it is in the first sentences of the conversation because it is the email that start the conversation.\n",
    "        Key 'technologys': the name of the technologys being addressed.\n",
    "        Key 'description': consolidate the report with the strings in order in a logical, elegant and techical way. \n",
    "                    Convert first person sentences to third person.\n",
    "                    Some strings should by copied char by char, like log strings, error messages.\n",
    "                    In the case of instructions with steps on how to do something you should rewrite it. Dont loose anyinformation. \n",
    "                    If the case exists a error message, write char by char of the error message that happened. you should just copy system messages.\n",
    "                    You could create/use sections like a book.\n",
    "        Key 'key_take_aways': Write a bullet list of the most important configurations mentioned in the conversation. Maybe there is something that someone forgot to do or said that is needed to do.\n",
    "        Key 'solution': If there is a solution mentioned in the conversation or in te previous report, write a summary of the solution found in the conversation. \n",
    "                    If dont have any solution mentioned, write 'Não há menção de nenhuma solução'.\n",
    "                    Your task is not to suggest any solution, your task is to report what is in the report and in the conversation.\n",
    "    \"\"\"\n",
    "\n",
    "prompt_report_creator_user = \"\"\"\n",
    "    {STRINGS}\n",
    "\"\"\"\n",
    "\n",
    "from langchain_core.prompts import ChatPromptTemplate\n",
    "\n",
    "prompt_report_creator = ChatPromptTemplate.from_messages(\n",
    "    [(\"system\", prompt_report_creator_system), (\"user\", prompt_report_creator_user)]\n",
    ")"
   ]
  },
  {
   "cell_type": "code",
   "execution_count": 110,
   "metadata": {},
   "outputs": [],
   "source": [
    "chain_report_creator = prompt_report_creator | llm_json"
   ]
  },
  {
   "cell_type": "code",
   "execution_count": 113,
   "metadata": {},
   "outputs": [
    {
     "name": "stdout",
     "output_type": "stream",
     "text": [
      "{\n",
      "    \"subject\": \"Erro ao fazer opera\\u00e7\\u00f5es na base do Infor de S\\u00e3o Leopoldo.\",\n",
      "    \"technologys\": [\n",
      "        \"Infor\",\n",
      "        \"VMware\",\n",
      "        \"TNSnames\",\n",
      "        \"GPO\"\n",
      "    ],\n",
      "    \"description\": \"Um erro foi relatado ao tentar realizar opera\\u00e7\\u00f5es na base do Infor de S\\u00e3o Leopoldo. O log de erro gerado foi:\\n\\n[2024-01-12 11:41:18] Falha ao conectar \\u2026 base do inFOR de S\\u00c6o Leopoldo 1\\u00a6\\n\\n> VT (SAOLEO.WORLD) com o usu\\u00e1rio inforadm: Exception calling \\\"Open\\\" with \\\"0\\\".\\n\\nFoi observado que o problema pode estar relacionado a um arquivo tnsnames.ora desatualizado na esta\\u00e7\\u00e3o de trabalho onde o erro ocorreu. O banco de dados foi acessado normalmente e foi confirmado que o listener est\\u00e1 ativo. \\n\\nFoi destacado que o banco de S\\u00e3o Leopoldo foi migrado para VMware e que o arquivo TNSnames deve ser atualizado com a vers\\u00e3o mais recente dispon\\u00edvel na rede. O arquivo TNSnames est\\u00e1 localizado no servidor Heitor, e todas as esta\\u00e7\\u00f5es do TRT t\\u00eam acesso de leitura a ele. A GPO \\u00e9 respons\\u00e1vel pela c\\u00f3pia do arquivo do servidor Heitor para as esta\\u00e7\\u00f5es.\\n\\nFoi questionado se existe algum chamado relacionado ao problema ou se h\\u00e1 esta\\u00e7\\u00f5es com problemas no Infor. A an\\u00e1lise indicou que o problema n\\u00e3o est\\u00e1 na localidade de S\\u00e3o Leopoldo, mas sim na aplica\\u00e7\\u00e3o do Infor no Markvision, onde o TNSnames n\\u00e3o foi atualizado.\\n\\nAp\\u00f3s essa confirma\\u00e7\\u00e3o, o TNSnames desatualizado foi atualizado manualmente. A verifica\\u00e7\\u00e3o do motivo pelo qual a GPO n\\u00e3o rodou est\\u00e1 em andamento. A GPO respons\\u00e1vel pela atualiza\\u00e7\\u00e3o do TNSnames (desktop-all-oracle) n\\u00e3o executou conforme esperado. O TNSnames foi substitu\\u00eddo manualmente na \\u00faltima ocorr\\u00eancia de problema na Agenda SAT, pois foi descoberto que a substitui\\u00e7\\u00e3o pela GPO n\\u00e3o estava sendo realizada.\\n\\nFoi sugerido que, se n\\u00e3o houver obje\\u00e7\\u00f5es t\\u00e9cnicas, a GPO seja alterada para ser aplicada tamb\\u00e9m no contexto *trt4.gov.br/infraestrutura/DIM/MARKVISION*.\",\n",
      "    \"key_take_aways\": [\n",
      "        \"Confirmar se o TNSnames.ora est\\u00e1 atualizado nas esta\\u00e7\\u00f5es de trabalho.\",\n",
      "        \"Verificar se a GPO de atualiza\\u00e7\\u00e3o do TNSnames (desktop-all-oracle) est\\u00e1 funcionando corretamente.\",\n",
      "        \"A GPO deve ser aplicada no contexto correto para garantir a atualiza\\u00e7\\u00e3o do TNSnames.\",\n",
      "        \"Os logs de erro devem ser monitorados para identificar outros problemas relacionados.\"\n",
      "    ],\n",
      "    \"solution\": \"N\\u00e3o h\\u00e1 men\\u00e7\\u00e3o de nenhuma solu\\u00e7\\u00e3o.\"\n",
      "}\n"
     ]
    }
   ],
   "source": [
    "import json\n",
    "\n",
    "response = chain_report_creator.invoke( { 'STRINGS': '\\n\\n'.join( df_thread['splits_selected'].to_list() ) } )\n",
    "new_report = json.loads(response.content)\n",
    "\n",
    "pretty_json = json.dumps(new_report, indent=4)\n",
    "print(pretty_json)"
   ]
  },
  {
   "cell_type": "code",
   "execution_count": 118,
   "metadata": {},
   "outputs": [
    {
     "name": "stdout",
     "output_type": "stream",
     "text": [
      "Um erro foi relatado ao tentar realizar operações na base do Infor de São Leopoldo. O log de erro gerado foi:  [2024-01-12 11:41:18] Falha ao conectar …\n",
      "base do inFOR de SÆo Leopoldo 1¦  > VT (SAOLEO.WORLD) com o usuário inforadm: Exception calling \"Open\" with \"0\".  Foi observado que o problema pode estar\n",
      "relacionado a um arquivo tnsnames.ora desatualizado na estação de trabalho onde o erro ocorreu. O banco de dados foi acessado normalmente e foi confirmado\n",
      "que o listener está ativo.   Foi destacado que o banco de São Leopoldo foi migrado para VMware e que o arquivo TNSnames deve ser atualizado com a versão\n",
      "mais recente disponível na rede. O arquivo TNSnames está localizado no servidor Heitor, e todas as estações do TRT têm acesso de leitura a ele. A GPO é\n",
      "responsável pela cópia do arquivo do servidor Heitor para as estações.  Foi questionado se existe algum chamado relacionado ao problema ou se há estações\n",
      "com problemas no Infor. A análise indicou que o problema não está na localidade de São Leopoldo, mas sim na aplicação do Infor no Markvision, onde o\n",
      "TNSnames não foi atualizado.  Após essa confirmação, o TNSnames desatualizado foi atualizado manualmente. A verificação do motivo pelo qual a GPO não rodou\n",
      "está em andamento. A GPO responsável pela atualização do TNSnames (desktop-all-oracle) não executou conforme esperado. O TNSnames foi substituído\n",
      "manualmente na última ocorrência de problema na Agenda SAT, pois foi descoberto que a substituição pela GPO não estava sendo realizada.  Foi sugerido que,\n",
      "se não houver objeções técnicas, a GPO seja alterada para ser aplicada também no contexto *trt4.gov.br/infraestrutura/DIM/MARKVISION*.\n"
     ]
    }
   ],
   "source": [
    "import textwrap\n",
    "\n",
    "wrapped_description = textwrap.fill(new_report['description'], width=155)\n",
    "print(wrapped_description)"
   ]
  },
  {
   "cell_type": "code",
   "execution_count": null,
   "metadata": {},
   "outputs": [],
   "source": []
  },
  {
   "cell_type": "code",
   "execution_count": null,
   "metadata": {},
   "outputs": [],
   "source": []
  },
  {
   "cell_type": "code",
   "execution_count": 120,
   "metadata": {},
   "outputs": [],
   "source": [
    "prompt_report_creator_system = \"\"\"\n",
    "    You are an expert IT technical writer that create draft of knowledge base documents.\n",
    "    You dont need to give any IT support, you should be impersonal like a newswriter giving a news.\n",
    "    \n",
    "    You will receive a list of strings extracted from a conversation between IT Technicians.\n",
    "    The language of the conversation is generaly in Brazilian Portuguese. So your report should be in Brazilian Portuguese.\n",
    "    You should output a technical report structured like a book.\n",
    "    The idea here is to identify pontential information that should be documented in a new knowledge base document. For example, somthing that someone forgot to do. Technologies configurations or infrastructure.\n",
    "    \n",
    "    Dont write uninformative phrases like \"relatorio de conversa\".\n",
    "    Do not discuss the email itself, focus rewriting the content\n",
    "    Do not sugest any solution or output any information that are not in the strings or in the previous report.\n",
    "    Dont write like: \"O email fala sobre um problema tal e bla bla.\". \n",
    "    You should be more directly to point.\n",
    "\n",
    "    You should output a json. \n",
    "        Key 'key_take_aways': Write a bullet list of the most important configurations mentioned in the conversation. \n",
    "                                Maybe there is something that someone forgot to do or said that is needed to do.\n",
    "                                You should put here what new knowledge you could infer from the conversation.\n",
    "        \n",
    "    \"\"\"\n",
    "\n",
    "prompt_report_creator_user = \"\"\"\n",
    "    {STRINGS}\n",
    "\"\"\"\n",
    "\n",
    "from langchain_core.prompts import ChatPromptTemplate\n",
    "\n",
    "prompt_report_creator = ChatPromptTemplate.from_messages(\n",
    "    [(\"system\", prompt_report_creator_system), (\"user\", prompt_report_creator_user)]\n",
    ")"
   ]
  },
  {
   "cell_type": "code",
   "execution_count": 121,
   "metadata": {},
   "outputs": [],
   "source": [
    "chain_report_creator = prompt_report_creator | llm_json"
   ]
  },
  {
   "cell_type": "code",
   "execution_count": 122,
   "metadata": {},
   "outputs": [
    {
     "name": "stdout",
     "output_type": "stream",
     "text": [
      "{\n",
      "    \"key_take_aways\": [\n",
      "        \"Erro ao conectar na base do Infor de S\\u00e3o Leopoldo identificado, possivelmente relacionado ao arquivo tnsnames.ora desatualizado.\",\n",
      "        \"Banco de dados de S\\u00e3o Leopoldo foi migrado para VMware.\",\n",
      "        \"O TNSnames est\\u00e1 localizado no servidor Heitor e todas as esta\\u00e7\\u00f5es do TRT t\\u00eam acesso de leitura a ele.\",\n",
      "        \"A GPO \\u00e9 respons\\u00e1vel pela c\\u00f3pia do tnsnames.ora do servidor Heitor para as esta\\u00e7\\u00f5es, mas a GPO de atualiza\\u00e7\\u00e3o do TNSnames (desktop-all-oracle) n\\u00e3o havia rodado.\",\n",
      "        \"Foi necess\\u00e1rio atualizar manualmente o TNSnames na esta\\u00e7\\u00e3o onde ocorreu o erro devido \\u00e0 falha da GPO.\",\n",
      "        \"Sugest\\u00e3o de altera\\u00e7\\u00e3o da GPO para ser aplicada no contexto *trt4.gov.br/infraestrutura/DIM/MARKVISION*.\"\n",
      "    ]\n",
      "}\n"
     ]
    }
   ],
   "source": [
    "import json\n",
    "\n",
    "response = chain_report_creator.invoke( { 'STRINGS': '\\n\\n'.join( df_thread['splits_selected'].to_list() ) } )\n",
    "new_report = json.loads(response.content)\n",
    "\n",
    "pretty_json = json.dumps(new_report, indent=4)\n",
    "print(pretty_json)"
   ]
  },
  {
   "cell_type": "code",
   "execution_count": 123,
   "metadata": {},
   "outputs": [
    {
     "ename": "KeyError",
     "evalue": "'description'",
     "output_type": "error",
     "traceback": [
      "\u001b[0;31m---------------------------------------------------------------------------\u001b[0m",
      "\u001b[0;31mKeyError\u001b[0m                                  Traceback (most recent call last)",
      "Cell \u001b[0;32mIn[123], line 3\u001b[0m\n\u001b[1;32m      1\u001b[0m \u001b[38;5;28;01mimport\u001b[39;00m \u001b[38;5;21;01mtextwrap\u001b[39;00m\n\u001b[0;32m----> 3\u001b[0m wrapped_description \u001b[38;5;241m=\u001b[39m textwrap\u001b[38;5;241m.\u001b[39mfill(\u001b[43mnew_report\u001b[49m\u001b[43m[\u001b[49m\u001b[38;5;124;43m'\u001b[39;49m\u001b[38;5;124;43mdescription\u001b[39;49m\u001b[38;5;124;43m'\u001b[39;49m\u001b[43m]\u001b[49m, width\u001b[38;5;241m=\u001b[39m\u001b[38;5;241m155\u001b[39m)\n\u001b[1;32m      4\u001b[0m \u001b[38;5;28mprint\u001b[39m(wrapped_description)\n",
      "\u001b[0;31mKeyError\u001b[0m: 'description'"
     ]
    }
   ],
   "source": [
    "import textwrap\n",
    "\n",
    "wrapped_description = textwrap.fill(new_report['description'], width=155)\n",
    "print(wrapped_description)"
   ]
  },
  {
   "cell_type": "code",
   "execution_count": null,
   "metadata": {},
   "outputs": [],
   "source": []
  },
  {
   "cell_type": "code",
   "execution_count": null,
   "metadata": {},
   "outputs": [],
   "source": []
  },
  {
   "cell_type": "code",
   "execution_count": 124,
   "metadata": {},
   "outputs": [],
   "source": [
    "prompt_report_creator_system = \"\"\"\n",
    "    You are an expert IT technical writer that create draft of knowledge base documents.\n",
    "    You dont need to give any IT support, you should be impersonal like a newswriter giving a news.\n",
    "    \n",
    "    You will receive a list of strings extracted from a conversation between IT Technicians.\n",
    "    The language of the conversation is generaly in Brazilian Portuguese. So your report should be in Brazilian Portuguese.\n",
    "    You should output a technical report structured like a book.\n",
    "    The idea here is to identify pontential information that should be documented in a new knowledge base document. For example, somthing that someone forgot to do. Technologies configurations or infrastructure.\n",
    "    \n",
    "    Dont write uninformative phrases like \"relatorio de conversa\".\n",
    "    Do not discuss the email itself, focus rewriting the content\n",
    "    Do not sugest any solution or output any information that are not in the strings or in the previous report.\n",
    "    Dont write like: \"O email fala sobre um problema tal e bla bla.\". \n",
    "    You should be more directly to point.\n",
    "\n",
    "    You should output a json. \n",
    "        Key 'subject': a sentence describing the subject or description of the problem happening. Generaly it is in the first sentences of the conversation because it is the email that start the conversation.\n",
    "        Key 'technologys': the name of the technologys being addressed.\n",
    "        Key 'description': consolidate the report with the strings in order in a logical, elegant and techical way. \n",
    "                    Convert first person sentences to third person.\n",
    "                    Some strings should by copied char by char, like log strings, error messages.\n",
    "                    In the case of instructions with steps on how to do something you should rewrite it. Dont loose anyinformation. \n",
    "                    If the case exists a error message, write char by char of the error message that happened. you should just copy system messages.\n",
    "                    You could create/use sections like a book.\n",
    "        Key 'key_take_aways': Write a bullet list of the most important configurations mentioned in the conversation. \n",
    "                                Maybe there is something that someone forgot to do or said that is needed to do.\n",
    "                                You should put here what new knowledge you could infer from the conversation.\n",
    "    \"\"\"\n",
    "\n",
    "prompt_report_creator_user = \"\"\"\n",
    "    {STRINGS}\n",
    "\"\"\"\n",
    "\n",
    "from langchain_core.prompts import ChatPromptTemplate\n",
    "\n",
    "prompt_report_creator = ChatPromptTemplate.from_messages(\n",
    "    [(\"system\", prompt_report_creator_system), (\"user\", prompt_report_creator_user)]\n",
    ")"
   ]
  },
  {
   "cell_type": "code",
   "execution_count": 125,
   "metadata": {},
   "outputs": [],
   "source": [
    "chain_report_creator = prompt_report_creator | llm_json"
   ]
  },
  {
   "cell_type": "code",
   "execution_count": 126,
   "metadata": {},
   "outputs": [
    {
     "name": "stdout",
     "output_type": "stream",
     "text": [
      "{\n",
      "    \"subject\": \"Erro ao realizar opera\\u00e7\\u00f5es na base do Infor de S\\u00e3o Leopoldo.\",\n",
      "    \"technologys\": [\n",
      "        \"Infor\",\n",
      "        \"VMware\",\n",
      "        \"GPO\",\n",
      "        \"TNSnames\"\n",
      "    ],\n",
      "    \"description\": {\n",
      "        \"Introdu\\u00e7\\u00e3o\": \"Uma opera\\u00e7\\u00e3o na base de dados do Infor em S\\u00e3o Leopoldo apresentou um erro.\",\n",
      "        \"Erro Reportado\": \"[2024-01-12 11:41:18] Falha ao conectar \\u2026 base do inFOR de S\\u00c6o Leopoldo 1\\u00a6> VT (SAOLEO.WORLD) com o usu\\u00e1rio inforadm: Exception calling \\\"Open\\\" with \\\"0\\\".\",\n",
      "        \"Diagn\\u00f3stico Inicial\": \"Foi identificado que o erro pode ser decorrente de um arquivo tnsnames.ora desatualizado na esta\\u00e7\\u00e3o de trabalho onde o erro ocorreu. Foi mencionado que o banco de dados foi migrado para VMware e que o listener estava ativo.\",\n",
      "        \"Atualiza\\u00e7\\u00e3o do TNSnames\": \"Foi sugerido que o arquivo TNSnames fosse atualizado com a vers\\u00e3o mais recente dispon\\u00edvel na rede. O arquivo TNSnames encontra-se no servidor Heitor, com acesso de leitura para todas as esta\\u00e7\\u00f5es do TRT. A GPO (Group Policy Object) \\u00e9 respons\\u00e1vel por realizar a c\\u00f3pia entre o servidor Heitor e as esta\\u00e7\\u00f5es.\",\n",
      "        \"Investiga\\u00e7\\u00f5es Adicionais\": \"Foi questionado se existia algum chamado referente ao problema ou se havia esta\\u00e7\\u00f5es com problemas no Infor, indicando que poderia ser um problema isolado. Foi esclarecido que o problema n\\u00e3o estava na localidade de S\\u00e3o Leopoldo, mas sim na aplica\\u00e7\\u00e3o do Infor no Markvision, que n\\u00e3o havia atualizado o TNSnames.\",\n",
      "        \"A\\u00e7\\u00f5es Tomadas\": \"Um t\\u00e9cnico mencionou que atualizou manualmente o TNSnames desatualizado e que iria verificar o motivo pelo qual a GPO n\\u00e3o foi executada. Foi relatado que a GPO de atualiza\\u00e7\\u00e3o do TNSnames (desktop-all-oracle) nunca havia rodado na esta\\u00e7\\u00e3o. O mesmo t\\u00e9cnico trocou o TNSnames manualmente na \\u00faltima ocorr\\u00eancia de um problema na Agenda SAT, pois descobriu que a GPO n\\u00e3o estava substituindo o arquivo.\",\n",
      "        \"Sugest\\u00e3o de Altera\\u00e7\\u00e3o\": \"Foi sugerido que, se n\\u00e3o houver obje\\u00e7\\u00e3o t\\u00e9cnica, a GPO fosse alterada para ser aplicada tamb\\u00e9m no contexto *trt4.gov.br/infraestrutura/DIM/MARKVISION.\"\n",
      "    },\n",
      "    \"key_take_aways\": [\n",
      "        \"Erro de conex\\u00e3o relatado com o banco de dados do Infor em S\\u00e3o Leopoldo devido a um TNSnames desatualizado.\",\n",
      "        \"O banco de dados foi migrado para VMware.\",\n",
      "        \"O arquivo TNSnames est\\u00e1 situado no servidor Heitor e deve ser atualizado nas esta\\u00e7\\u00f5es atrav\\u00e9s da GPO.\",\n",
      "        \"A GPO de atualiza\\u00e7\\u00e3o do TNSnames (desktop-all-oracle) n\\u00e3o estava sendo executada corretamente.\",\n",
      "        \"As atualiza\\u00e7\\u00f5es manuais foram realizadas quando a GPO falhou na substitui\\u00e7\\u00e3o do arquivo.\"\n",
      "    ]\n",
      "}\n"
     ]
    }
   ],
   "source": [
    "import json\n",
    "\n",
    "response = chain_report_creator.invoke( { 'STRINGS': '\\n\\n'.join( df_thread['splits_selected'].to_list() ) } )\n",
    "new_report = json.loads(response.content)\n",
    "\n",
    "pretty_json = json.dumps(new_report, indent=4)\n",
    "print(pretty_json)"
   ]
  },
  {
   "cell_type": "code",
   "execution_count": 127,
   "metadata": {},
   "outputs": [
    {
     "ename": "AttributeError",
     "evalue": "'dict' object has no attribute 'expandtabs'",
     "output_type": "error",
     "traceback": [
      "\u001b[0;31m---------------------------------------------------------------------------\u001b[0m",
      "\u001b[0;31mAttributeError\u001b[0m                            Traceback (most recent call last)",
      "Cell \u001b[0;32mIn[127], line 3\u001b[0m\n\u001b[1;32m      1\u001b[0m \u001b[38;5;28;01mimport\u001b[39;00m \u001b[38;5;21;01mtextwrap\u001b[39;00m\n\u001b[0;32m----> 3\u001b[0m wrapped_description \u001b[38;5;241m=\u001b[39m \u001b[43mtextwrap\u001b[49m\u001b[38;5;241;43m.\u001b[39;49m\u001b[43mfill\u001b[49m\u001b[43m(\u001b[49m\u001b[43mnew_report\u001b[49m\u001b[43m[\u001b[49m\u001b[38;5;124;43m'\u001b[39;49m\u001b[38;5;124;43mdescription\u001b[39;49m\u001b[38;5;124;43m'\u001b[39;49m\u001b[43m]\u001b[49m\u001b[43m,\u001b[49m\u001b[43m \u001b[49m\u001b[43mwidth\u001b[49m\u001b[38;5;241;43m=\u001b[39;49m\u001b[38;5;241;43m155\u001b[39;49m\u001b[43m)\u001b[49m\n\u001b[1;32m      4\u001b[0m \u001b[38;5;28mprint\u001b[39m(wrapped_description)\n",
      "File \u001b[0;32m~/.pyenv/versions/3.10.14/lib/python3.10/textwrap.py:399\u001b[0m, in \u001b[0;36mfill\u001b[0;34m(text, width, **kwargs)\u001b[0m\n\u001b[1;32m    390\u001b[0m \u001b[38;5;250m\u001b[39m\u001b[38;5;124;03m\"\"\"Fill a single paragraph of text, returning a new string.\u001b[39;00m\n\u001b[1;32m    391\u001b[0m \n\u001b[1;32m    392\u001b[0m \u001b[38;5;124;03mReformat the single paragraph in 'text' to fit in lines of no more\u001b[39;00m\n\u001b[0;32m   (...)\u001b[0m\n\u001b[1;32m    396\u001b[0m \u001b[38;5;124;03mavailable keyword args to customize wrapping behaviour.\u001b[39;00m\n\u001b[1;32m    397\u001b[0m \u001b[38;5;124;03m\"\"\"\u001b[39;00m\n\u001b[1;32m    398\u001b[0m w \u001b[38;5;241m=\u001b[39m TextWrapper(width\u001b[38;5;241m=\u001b[39mwidth, \u001b[38;5;241m*\u001b[39m\u001b[38;5;241m*\u001b[39mkwargs)\n\u001b[0;32m--> 399\u001b[0m \u001b[38;5;28;01mreturn\u001b[39;00m \u001b[43mw\u001b[49m\u001b[38;5;241;43m.\u001b[39;49m\u001b[43mfill\u001b[49m\u001b[43m(\u001b[49m\u001b[43mtext\u001b[49m\u001b[43m)\u001b[49m\n",
      "File \u001b[0;32m~/.pyenv/versions/3.10.14/lib/python3.10/textwrap.py:371\u001b[0m, in \u001b[0;36mTextWrapper.fill\u001b[0;34m(self, text)\u001b[0m\n\u001b[1;32m    364\u001b[0m \u001b[38;5;28;01mdef\u001b[39;00m \u001b[38;5;21mfill\u001b[39m(\u001b[38;5;28mself\u001b[39m, text):\n\u001b[1;32m    365\u001b[0m \u001b[38;5;250m    \u001b[39m\u001b[38;5;124;03m\"\"\"fill(text : string) -> string\u001b[39;00m\n\u001b[1;32m    366\u001b[0m \n\u001b[1;32m    367\u001b[0m \u001b[38;5;124;03m    Reformat the single paragraph in 'text' to fit in lines of no\u001b[39;00m\n\u001b[1;32m    368\u001b[0m \u001b[38;5;124;03m    more than 'self.width' columns, and return a new string\u001b[39;00m\n\u001b[1;32m    369\u001b[0m \u001b[38;5;124;03m    containing the entire wrapped paragraph.\u001b[39;00m\n\u001b[1;32m    370\u001b[0m \u001b[38;5;124;03m    \"\"\"\u001b[39;00m\n\u001b[0;32m--> 371\u001b[0m     \u001b[38;5;28;01mreturn\u001b[39;00m \u001b[38;5;124m\"\u001b[39m\u001b[38;5;130;01m\\n\u001b[39;00m\u001b[38;5;124m\"\u001b[39m\u001b[38;5;241m.\u001b[39mjoin(\u001b[38;5;28;43mself\u001b[39;49m\u001b[38;5;241;43m.\u001b[39;49m\u001b[43mwrap\u001b[49m\u001b[43m(\u001b[49m\u001b[43mtext\u001b[49m\u001b[43m)\u001b[49m)\n",
      "File \u001b[0;32m~/.pyenv/versions/3.10.14/lib/python3.10/textwrap.py:359\u001b[0m, in \u001b[0;36mTextWrapper.wrap\u001b[0;34m(self, text)\u001b[0m\n\u001b[1;32m    350\u001b[0m \u001b[38;5;28;01mdef\u001b[39;00m \u001b[38;5;21mwrap\u001b[39m(\u001b[38;5;28mself\u001b[39m, text):\n\u001b[1;32m    351\u001b[0m \u001b[38;5;250m    \u001b[39m\u001b[38;5;124;03m\"\"\"wrap(text : string) -> [string]\u001b[39;00m\n\u001b[1;32m    352\u001b[0m \n\u001b[1;32m    353\u001b[0m \u001b[38;5;124;03m    Reformat the single paragraph in 'text' so it fits in lines of\u001b[39;00m\n\u001b[0;32m   (...)\u001b[0m\n\u001b[1;32m    357\u001b[0m \u001b[38;5;124;03m    converted to space.\u001b[39;00m\n\u001b[1;32m    358\u001b[0m \u001b[38;5;124;03m    \"\"\"\u001b[39;00m\n\u001b[0;32m--> 359\u001b[0m     chunks \u001b[38;5;241m=\u001b[39m \u001b[38;5;28;43mself\u001b[39;49m\u001b[38;5;241;43m.\u001b[39;49m\u001b[43m_split_chunks\u001b[49m\u001b[43m(\u001b[49m\u001b[43mtext\u001b[49m\u001b[43m)\u001b[49m\n\u001b[1;32m    360\u001b[0m     \u001b[38;5;28;01mif\u001b[39;00m \u001b[38;5;28mself\u001b[39m\u001b[38;5;241m.\u001b[39mfix_sentence_endings:\n\u001b[1;32m    361\u001b[0m         \u001b[38;5;28mself\u001b[39m\u001b[38;5;241m.\u001b[39m_fix_sentence_endings(chunks)\n",
      "File \u001b[0;32m~/.pyenv/versions/3.10.14/lib/python3.10/textwrap.py:345\u001b[0m, in \u001b[0;36mTextWrapper._split_chunks\u001b[0;34m(self, text)\u001b[0m\n\u001b[1;32m    344\u001b[0m \u001b[38;5;28;01mdef\u001b[39;00m \u001b[38;5;21m_split_chunks\u001b[39m(\u001b[38;5;28mself\u001b[39m, text):\n\u001b[0;32m--> 345\u001b[0m     text \u001b[38;5;241m=\u001b[39m \u001b[38;5;28;43mself\u001b[39;49m\u001b[38;5;241;43m.\u001b[39;49m\u001b[43m_munge_whitespace\u001b[49m\u001b[43m(\u001b[49m\u001b[43mtext\u001b[49m\u001b[43m)\u001b[49m\n\u001b[1;32m    346\u001b[0m     \u001b[38;5;28;01mreturn\u001b[39;00m \u001b[38;5;28mself\u001b[39m\u001b[38;5;241m.\u001b[39m_split(text)\n",
      "File \u001b[0;32m~/.pyenv/versions/3.10.14/lib/python3.10/textwrap.py:154\u001b[0m, in \u001b[0;36mTextWrapper._munge_whitespace\u001b[0;34m(self, text)\u001b[0m\n\u001b[1;32m    147\u001b[0m \u001b[38;5;250m\u001b[39m\u001b[38;5;124;03m\"\"\"_munge_whitespace(text : string) -> string\u001b[39;00m\n\u001b[1;32m    148\u001b[0m \n\u001b[1;32m    149\u001b[0m \u001b[38;5;124;03mMunge whitespace in text: expand tabs and convert all other\u001b[39;00m\n\u001b[1;32m    150\u001b[0m \u001b[38;5;124;03mwhitespace characters to spaces.  Eg. \" foo\\\\tbar\\\\n\\\\nbaz\"\u001b[39;00m\n\u001b[1;32m    151\u001b[0m \u001b[38;5;124;03mbecomes \" foo    bar  baz\".\u001b[39;00m\n\u001b[1;32m    152\u001b[0m \u001b[38;5;124;03m\"\"\"\u001b[39;00m\n\u001b[1;32m    153\u001b[0m \u001b[38;5;28;01mif\u001b[39;00m \u001b[38;5;28mself\u001b[39m\u001b[38;5;241m.\u001b[39mexpand_tabs:\n\u001b[0;32m--> 154\u001b[0m     text \u001b[38;5;241m=\u001b[39m \u001b[43mtext\u001b[49m\u001b[38;5;241;43m.\u001b[39;49m\u001b[43mexpandtabs\u001b[49m(\u001b[38;5;28mself\u001b[39m\u001b[38;5;241m.\u001b[39mtabsize)\n\u001b[1;32m    155\u001b[0m \u001b[38;5;28;01mif\u001b[39;00m \u001b[38;5;28mself\u001b[39m\u001b[38;5;241m.\u001b[39mreplace_whitespace:\n\u001b[1;32m    156\u001b[0m     text \u001b[38;5;241m=\u001b[39m text\u001b[38;5;241m.\u001b[39mtranslate(\u001b[38;5;28mself\u001b[39m\u001b[38;5;241m.\u001b[39municode_whitespace_trans)\n",
      "\u001b[0;31mAttributeError\u001b[0m: 'dict' object has no attribute 'expandtabs'"
     ]
    }
   ],
   "source": [
    "import textwrap\n",
    "\n",
    "wrapped_description = textwrap.fill(new_report['description'], width=155)\n",
    "print(wrapped_description)"
   ]
  }
 ],
 "metadata": {
  "kernelspec": {
   "display_name": ".venv",
   "language": "python",
   "name": "python3"
  },
  "language_info": {
   "codemirror_mode": {
    "name": "ipython",
    "version": 3
   },
   "file_extension": ".py",
   "mimetype": "text/x-python",
   "name": "python",
   "nbconvert_exporter": "python",
   "pygments_lexer": "ipython3",
   "version": "3.10.14"
  }
 },
 "nbformat": 4,
 "nbformat_minor": 2
}
