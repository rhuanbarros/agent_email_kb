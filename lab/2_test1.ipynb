{
 "cells": [
  {
   "cell_type": "code",
   "execution_count": 1,
   "metadata": {},
   "outputs": [],
   "source": [
    "import os\n",
    "\n",
    "# os.environ[\"OPENAI_API_KEY\"] = "
   ]
  },
  {
   "cell_type": "code",
   "execution_count": null,
   "metadata": {},
   "outputs": [],
   "source": [
    "os.environ[\"LANGCHAIN_TRACING_V2\"] = \"true\"\n",
    "os.environ[\"LANGCHAIN_API_KEY\"] = \"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\"\n",
    "os.environ[\"LANGCHAIN_PROJECT\"] = f\"Procurador LAB\""
   ]
  },
  {
   "cell_type": "code",
   "execution_count": 4,
   "metadata": {},
   "outputs": [],
   "source": [
    "from langchain_openai import ChatOpenAI\n",
    "\n",
    "model = ChatOpenAI(model=\"gpt-3.5-turbo-0125\")"
   ]
  },
  {
   "cell_type": "code",
   "execution_count": null,
   "metadata": {},
   "outputs": [],
   "source": [
    "from g4f import Provider, models\n",
    "from langchain.llms.base import LLM\n",
    "\n",
    "from langchain_g4f import G4FLLM\n",
    "\n",
    "llm: LLM = G4FLLM(\n",
    "    model=models.gpt_35_turbo,\n",
    "    # provider=Provider.Aichat,\n",
    ")"
   ]
  },
  {
   "cell_type": "code",
   "execution_count": null,
   "metadata": {},
   "outputs": [],
   "source": [
    "from langchain.prompts import PromptTemplate\n",
    "\n",
    "prompt = PromptTemplate.from_template(\n",
    "    \"\"\"\n",
    "    I'm studying english. I have a list of senteces that I took from a English Book.\n",
    "    I want you to put the string \"-separator-\" to separate related senteces.\n",
    "    To clarify what are related, I give an example that contains the before and after process.\n",
    "    You should do similiar to the NEW DATA TO PROCESS.\n",
    "\n",
    "    Also, each sample conversation starts with \"Conversation, Lesson #\" with the number of the lesson. \n",
    "    you should output it and put a \"-separator-\" right after it to separate it from the sentences.\n",
    "\n",
    "    You should answer only with the new senteces, you shold not output the original text or something like this.\n",
    "\n",
    "    # EXAMPLE BEFORE PROCESS:\n",
    "    Music  Wizard Book 3 Conversation Lesson 1  Did the boy pay $1 for the paper at the newsstand?  Yes, he did. He paid $1 for the paper at the newsstand.  Did this secretary put the document on the table?  Yes, she did.  She put the document on the table.  No, she didn't.  She didn't put the information from the computer?  Yes, I did. I accessed the information from the computer.  No, I didn't. I didn't access the information from the computer.  Did your mom do her Christmas shopping early this year?  Yes, she did.  She did her Christmas shopping early this year.  No, she didn't. She didn't do her Christmas shopping early this year.  Did they eat Brazilian food at the restaurant? Yes, they did.  They ate Brazilian food at the restaurant.  No, they didn't.  They didn't eat Brazilian food at the restaurant. Is your sister doing her homework in the her bedroom?  Yes, she is.  She is doing her homework in her bedroom.  No, she isn't. She isn't doing her homework in her bedroom.  Are the children playing in the snow?  Yes, they are. They are playing in the snow.  Now they aren't. They aren't playing in the snow.  Is your son putting the toys in the room?  Yes he is.  He is putting the toys in the room.  No, he isn't. He isn't putting the toys in the room.  Is Jane accessing her email every day?  Yes she is. She is accessing her email every day. No, she isn't. She isn't accessing her email every day.  Is the man paying for the groceries?  Yes he is.  He is paying for the groceries.  No he isn't.  He is not paying for the groceries.\n",
    "    \n",
    "    # EXAMPLE AFTER PROCESS:\n",
    "\n",
    "    WIZARD Book 3 Conversation\n",
    "    Lesson 1\n",
    "    -separator-\n",
    "    Did the boy pay one dollar for the paper at the newsstand?\n",
    "    Yes, he did. He paid one dollar for the paper at the newsstand.\n",
    "    No, he didn't. He didn't pay one dollar for the paper at the newsstand. \n",
    "    -separator-\n",
    "    Did the secretary put the document on the table.\n",
    "    No, she didn't. She didn't put the document on the table.\n",
    "    -separator-\n",
    "    Did you access the information from the computer?\n",
    "    Yes, I did. I access the information from the computer.\n",
    "    -separator-\n",
    "    Did your mom do her Christmas shopping early this year?\n",
    "    Yes, she did. She did her Christmas shopping early this year.\n",
    "    No, she didn't. She didn't do her Christmas shopping early this year.\n",
    "    -separator-\n",
    "    Did they eat Brazilian food at the restaurant.\n",
    "    No, they didn't. They didn't eat Brazilian food at the restaurant.\n",
    "    -separator-\n",
    "    Is your sister doing her homework in her bedroom?\n",
    "    Yes, she is. She is doing her homework in her bedroom.\n",
    "    No, she isn't. She isn't doing her homework in her bedroom.\n",
    "    -separator-\n",
    "    Are the children playing in the snow?\n",
    "    Yes, they are. They are playing in the snow.\n",
    "    No, they aren't. They aren't playing in the snow.\n",
    "    -separator-\n",
    "    Is your son putting the toys in the room?\n",
    "    Yes, he is. He is putting the toys in the room.\n",
    "    No, he isn't. He isn't putting the toys in the room.\n",
    "    -separator-\n",
    "    Is Jane accessing her email every day?\n",
    "    Yes, she is. She is accessing her email every day. \n",
    "    No, she isn't. She isn't accessing her email every day.\n",
    "    -separator-\n",
    "    Is the man paying for the groceries?\n",
    "    Yes he is. He is paying for the groceries.\n",
    "    No he isn't. He is not paying for the groceries.\n",
    "\n",
    "\n",
    "\n",
    "    # NEW DATA TO PROCESS:\n",
    "\n",
    "    {new_data_to_process}\n",
    "\n",
    "    \"\"\"\n",
    ")"
   ]
  },
  {
   "cell_type": "code",
   "execution_count": null,
   "metadata": {},
   "outputs": [],
   "source": [
    "chain = prompt | llm"
   ]
  },
  {
   "cell_type": "code",
   "execution_count": null,
   "metadata": {},
   "outputs": [],
   "source": []
  }
 ],
 "metadata": {
  "kernelspec": {
   "display_name": ".venv",
   "language": "python",
   "name": "python3"
  },
  "language_info": {
   "codemirror_mode": {
    "name": "ipython",
    "version": 3
   },
   "file_extension": ".py",
   "mimetype": "text/x-python",
   "name": "python",
   "nbconvert_exporter": "python",
   "pygments_lexer": "ipython3",
   "version": "3.10.14"
  }
 },
 "nbformat": 4,
 "nbformat_minor": 2
}
