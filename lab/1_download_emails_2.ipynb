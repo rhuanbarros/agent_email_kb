{
 "cells": [
  {
   "cell_type": "code",
   "execution_count": 1,
   "metadata": {},
   "outputs": [],
   "source": [
    "import pandas as pd"
   ]
  },
  {
   "cell_type": "code",
   "execution_count": 2,
   "metadata": {},
   "outputs": [],
   "source": [
    "from langchain_community.tools.gmail.utils import (\n",
    "    build_resource_service,\n",
    "    get_gmail_credentials,\n",
    ")\n",
    "\n",
    "# Can review scopes here https://developers.google.com/gmail/api/auth/scopes\n",
    "# For instance, readonly scope is 'https://www.googleapis.com/auth/gmail.readonly'\n",
    "credentials = get_gmail_credentials(\n",
    "    token_file=\"token.json\",\n",
    "    # scopes=[\"https://mail.google.com/\"],\n",
    "    scopes=[\"https://www.googleapis.com/auth/gmail.readonly\"],\n",
    "    client_secrets_file=\"client_secret_725666968119-4saglerh38du5sngfrilihcm9pc7nfk6.apps.googleusercontent.com.json\",\n",
    ")\n",
    "api_resource = build_resource_service(credentials=credentials)"
   ]
  },
  {
   "cell_type": "code",
   "execution_count": 30,
   "metadata": {},
   "outputs": [],
   "source": [
    "import importlib\n",
    "from GmailSearch2 import GmailSearch2 \n",
    "# importlib.reload(GmailSearch2)"
   ]
  },
  {
   "cell_type": "code",
   "execution_count": 31,
   "metadata": {},
   "outputs": [],
   "source": [
    "search = GmailSearch2( api_resource=api_resource)"
   ]
  },
  {
   "cell_type": "code",
   "execution_count": 32,
   "metadata": {},
   "outputs": [
    {
     "name": "stdout",
     "output_type": "stream",
     "text": [
      "Quantity of emails in this batch: 3\n"
     ]
    }
   ],
   "source": [
    "query = 'Criei a base elasticsearch de homologação,'\n",
    "emails = search._run(query, max_results=1000)\n",
    "print( f'Quantity of emails in this batch: {len(emails)}' )"
   ]
  },
  {
   "cell_type": "code",
   "execution_count": 34,
   "metadata": {},
   "outputs": [
    {
     "name": "stdout",
     "output_type": "stream",
     "text": [
      "The last day of 2/2024 is 29.\n"
     ]
    }
   ],
   "source": [
    "import calendar\n",
    "\n",
    "def get_last_day_of_month(year, month):\n",
    "    _, last_day = calendar.monthrange(year, month)\n",
    "    return last_day\n",
    "\n",
    "# Example usage for February 2024\n",
    "year = 2024\n",
    "month = 2\n",
    "last_day = get_last_day_of_month(year, month)\n",
    "print(f\"The last day of {month}/{year} is {last_day}.\")\n"
   ]
  },
  {
   "cell_type": "code",
   "execution_count": 40,
   "metadata": {},
   "outputs": [
    {
     "name": "stdout",
     "output_type": "stream",
     "text": [
      "setic.dim-lista@trt4.jus.br after:2024/1/1 before:2024/1/2\n",
      "Quantity of emails in this batch: 0\n",
      "setic.dim-lista@trt4.jus.br after:2024/1/2 before:2024/1/3\n",
      "Quantity of emails in this batch: 1\n",
      "setic.dim-lista@trt4.jus.br after:2024/1/3 before:2024/1/4\n",
      "Quantity of emails in this batch: 0\n",
      "setic.dim-lista@trt4.jus.br after:2024/1/4 before:2024/1/5\n",
      "Quantity of emails in this batch: 1\n",
      "setic.dim-lista@trt4.jus.br after:2024/1/5 before:2024/1/6\n",
      "Quantity of emails in this batch: 0\n",
      "setic.dim-lista@trt4.jus.br after:2024/1/6 before:2024/1/7\n",
      "Quantity of emails in this batch: 0\n",
      "setic.dim-lista@trt4.jus.br after:2024/1/7 before:2024/1/8\n",
      "Quantity of emails in this batch: 3\n",
      "setic.dim-lista@trt4.jus.br after:2024/1/8 before:2024/1/9\n"
     ]
    }
   ],
   "source": [
    "total_emails = []\n",
    "year = 2024\n",
    "\n",
    "for month in range(1,8):\n",
    "    last_day = get_last_day_of_month(year, month)\n",
    "    for day in range(1, last_day+1):\n",
    "        if day == last_day:\n",
    "            month2 = month+1\n",
    "            day2 = 1\n",
    "        else:\n",
    "            month2 = month\n",
    "            day2 = day+1        \n",
    "\n",
    "        query = f\"setic.dim-lista@trt4.jus.br after:2024/{month}/{day} before:2024/{month2}/{day2}\"\n",
    "        print( query )\n",
    "\n",
    "        emails = search._run(query, max_results=1000)\n",
    "        print( f'Quantity of emails in this batch: {len(emails)}' )\n",
    "\n",
    "        total_emails.extend(emails)\n",
    "\n",
    "\n",
    "df = pd.DataFrame(total_emails)\n",
    "df.info()\n",
    "\n",
    "print('saving ...')\n",
    "df.to_csv('emails3.csv', index=None)"
   ]
  },
  {
   "cell_type": "code",
   "execution_count": null,
   "metadata": {},
   "outputs": [],
   "source": []
  }
 ],
 "metadata": {
  "kernelspec": {
   "display_name": "Python 3",
   "language": "python",
   "name": "python3"
  },
  "language_info": {
   "codemirror_mode": {
    "name": "ipython",
    "version": 3
   },
   "file_extension": ".py",
   "mimetype": "text/x-python",
   "name": "python",
   "nbconvert_exporter": "python",
   "pygments_lexer": "ipython3",
   "version": "3.10.14"
  }
 },
 "nbformat": 4,
 "nbformat_minor": 2
}
